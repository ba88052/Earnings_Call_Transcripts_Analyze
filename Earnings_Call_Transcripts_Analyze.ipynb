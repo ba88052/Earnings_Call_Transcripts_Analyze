{
  "nbformat": 4,
  "nbformat_minor": 0,
  "metadata": {
    "colab": {
      "provenance": [],
      "collapsed_sections": [
        "Fpw5_ZU36JQd",
        "Id4gHVj76cBb",
        "CXT01Xf76Das",
        "YK_7M4v660Ah",
        "XBw9dt9a6A3i"
      ],
      "authorship_tag": "ABX9TyPR9Kyft4V9EAAHNWt+Ocv8",
      "include_colab_link": true
    },
    "kernelspec": {
      "name": "python3",
      "display_name": "Python 3"
    },
    "language_info": {
      "name": "python"
    }
  },
  "cells": [
    {
      "cell_type": "markdown",
      "metadata": {
        "id": "view-in-github",
        "colab_type": "text"
      },
      "source": [
        "<a href=\"https://colab.research.google.com/github/ba88052/Earnings_Call_Transcripts_Analyze/blob/main/Earnings_Call_Transcripts_Analyze.ipynb\" target=\"_parent\"><img src=\"https://colab.research.google.com/assets/colab-badge.svg\" alt=\"Open In Colab\"/></a>"
      ]
    },
    {
      "cell_type": "markdown",
      "source": [
        "#Environment prepare\n"
      ],
      "metadata": {
        "id": "Fpw5_ZU36JQd"
      }
    },
    {
      "cell_type": "code",
      "source": [
        "!pip3 install beautifulsoup4\n",
        "!pip3 install selenium==4.1.5\n",
        "!pip3 install webdriver-manager\n",
        "!apt-get update # to update ubuntu to correctly run apt install\n",
        "!apt install chromium-chromedriver\n",
        "!cp /usr/lib/chromium-browser/chromedriver /usr/bin\n",
        "\n",
        "#查看是否在colab環境\n",
        "try:\n",
        "    from google.colab import drive, files\n",
        "    in_colab = True\n",
        "except ModuleNotFoundError:\n",
        "    in_colab = False\n",
        "\n",
        "from google.colab import drive\n",
        "\n",
        "#import常用套件與版本\n",
        "import numpy as np\n",
        "import pandas as pd\n",
        "import statsmodels.api as sm\n",
        "import seaborn as sns\n",
        "import matplotlib\n",
        "import matplotlib.pyplot as plt\n",
        "import scipy\n",
        "import sklearn\n",
        "import gdown\n",
        "import requests\n",
        "from bs4 import BeautifulSoup\n",
        "from selenium import webdriver\n",
        "from selenium.webdriver.chrome.options import Options\n",
        "from webdriver_manager.chrome import ChromeDriverManager\n",
        "import time\n",
        "import re\n",
        "import sys\n",
        "import os\n",
        "\n",
        "\n",
        "#掛載Google Drive（需更改路徑）\n",
        "# if in_colab:\n",
        "#   home_dir = \"\"\n",
        "#   drive.mount(\"/content/drive\")\n",
        "#   groot_dir = \"/content/drive/My Drive/DataAnalysis\"\n",
        "\n",
        "# import os\n",
        "# file1 = os.path.join(groot_dir, \"Testing.jpg\")\n",
        "# f = file1\n",
        "# print(f)\n",
        "# print(os.path.exists(f))\n",
        "\n",
        "#將印出圖片時需要的設定函數化\n",
        "def start_plot(figsize=(10, 8), style = 'whitegrid'):\n",
        "    fig = plt.figure(figsize=figsize)\n",
        "    gs = fig.add_gridspec(1,1)\n",
        "    plt.tight_layout()\n",
        "    with sns.axes_style(style):\n",
        "        ax = fig.add_subplot(gs[0,0])\n",
        "    return ax\n",
        "\n",
        "\n",
        "#偵測環境\n",
        "import platform\n",
        "print(\"We're running on\", platform.platform())\n",
        "print(\"Python version\", platform.python_version())\n",
        "print(platform.uname())\n",
        "\n",
        "\n",
        "#印出當前時間（確認時間沒問題）\n",
        "from datetime import datetime\n",
        "from dateutil.relativedelta import *\n",
        "local_time = lambda x, offset: x + relativedelta(hours= offset)\n",
        "#因為用虛擬機，內置為格林威治+0時間\n",
        "def local_now(hours = 8):\n",
        "    return datetime.now() + relativedelta(hours = hours if in_colab else 0)\n",
        "\n",
        "def print_now():\n",
        "    return print(local_now())\n",
        "\n",
        "def print_local_now():\n",
        "    return print('Local Time:', local_now())\n",
        "\n",
        "    import gdown, requests\n",
        "\n",
        "#從googledrive抓\n",
        "def fetch_gdrive_file(fid, local_save):\n",
        "    remote_url = 'https://drive.google.com/uc?id=' + fid\n",
        "    gdown.download(remote_url, local_save, quiet = False)\n",
        "\n",
        "#用requests 從網址url抓\n",
        "def fetch_file_via_requests(url, save_in_dir):\n",
        "    local_filename = url.split('/')[-1]\n",
        "    # NOTE the stream=True parameter below\n",
        "    output_fpath = save_in_dir + local_filename\n",
        "    with requests.get(url, stream=True) as r:\n",
        "        r.raise_for_status()\n",
        "        with open(output_fpath, 'wb') as f:\n",
        "            for chunk in r.iter_content(chunk_size=8192): \n",
        "                if chunk: # filter out keep-alive new chunks\n",
        "                    f.write(chunk)\n",
        "                    # f.flush()\n",
        "    return output_fpath\n",
        "\n",
        "print('helpers imported')\n",
        "print_now()\n",
        "\n",
        "\n",
        "# print('\\nData storage points to ==>', groot_dir)"
      ],
      "metadata": {
        "id": "maWqbqbhVAYz",
        "colab": {
          "base_uri": "https://localhost:8080/"
        },
        "outputId": "dfbcc89a-6a77-44dd-e5c0-259adddf2f14"
      },
      "execution_count": null,
      "outputs": [
        {
          "output_type": "stream",
          "name": "stdout",
          "text": [
            "Looking in indexes: https://pypi.org/simple, https://us-python.pkg.dev/colab-wheels/public/simple/\n",
            "Requirement already satisfied: beautifulsoup4 in /usr/local/lib/python3.7/dist-packages (4.6.3)\n",
            "Looking in indexes: https://pypi.org/simple, https://us-python.pkg.dev/colab-wheels/public/simple/\n",
            "Collecting selenium==4.1.5\n",
            "  Downloading selenium-4.1.5-py3-none-any.whl (979 kB)\n",
            "\u001b[K     |████████████████████████████████| 979 kB 31.9 MB/s \n",
            "\u001b[?25hCollecting trio-websocket~=0.9\n",
            "  Downloading trio_websocket-0.9.2-py3-none-any.whl (16 kB)\n",
            "Collecting urllib3[secure,socks]~=1.26\n",
            "  Downloading urllib3-1.26.12-py2.py3-none-any.whl (140 kB)\n",
            "\u001b[K     |████████████████████████████████| 140 kB 105.4 MB/s \n",
            "\u001b[?25hCollecting trio~=0.17\n",
            "  Downloading trio-0.22.0-py3-none-any.whl (384 kB)\n",
            "\u001b[K     |████████████████████████████████| 384 kB 75.4 MB/s \n",
            "\u001b[?25hRequirement already satisfied: attrs>=19.2.0 in /usr/local/lib/python3.7/dist-packages (from trio~=0.17->selenium==4.1.5) (22.1.0)\n",
            "Requirement already satisfied: sortedcontainers in /usr/local/lib/python3.7/dist-packages (from trio~=0.17->selenium==4.1.5) (2.4.0)\n",
            "Collecting exceptiongroup>=1.0.0rc9\n",
            "  Downloading exceptiongroup-1.0.0rc9-py3-none-any.whl (12 kB)\n",
            "Collecting outcome\n",
            "  Downloading outcome-1.2.0-py2.py3-none-any.whl (9.7 kB)\n",
            "Requirement already satisfied: idna in /usr/local/lib/python3.7/dist-packages (from trio~=0.17->selenium==4.1.5) (2.10)\n",
            "Collecting async-generator>=1.9\n",
            "  Downloading async_generator-1.10-py3-none-any.whl (18 kB)\n",
            "Collecting sniffio\n",
            "  Downloading sniffio-1.3.0-py3-none-any.whl (10 kB)\n",
            "Collecting wsproto>=0.14\n",
            "  Downloading wsproto-1.2.0-py3-none-any.whl (24 kB)\n",
            "Requirement already satisfied: certifi in /usr/local/lib/python3.7/dist-packages (from urllib3[secure,socks]~=1.26->selenium==4.1.5) (2022.6.15)\n",
            "Collecting pyOpenSSL>=0.14\n",
            "  Downloading pyOpenSSL-22.1.0-py3-none-any.whl (57 kB)\n",
            "\u001b[K     |████████████████████████████████| 57 kB 5.5 MB/s \n",
            "\u001b[?25hCollecting cryptography>=1.3.4\n",
            "  Downloading cryptography-38.0.1-cp36-abi3-manylinux_2_24_x86_64.whl (4.0 MB)\n",
            "\u001b[K     |████████████████████████████████| 4.0 MB 78.0 MB/s \n",
            "\u001b[?25hCollecting urllib3-secure-extra\n",
            "  Downloading urllib3_secure_extra-0.1.0-py2.py3-none-any.whl (1.4 kB)\n",
            "Requirement already satisfied: PySocks!=1.5.7,<2.0,>=1.5.6 in /usr/local/lib/python3.7/dist-packages (from urllib3[secure,socks]~=1.26->selenium==4.1.5) (1.7.1)\n",
            "Requirement already satisfied: cffi>=1.12 in /usr/local/lib/python3.7/dist-packages (from cryptography>=1.3.4->urllib3[secure,socks]~=1.26->selenium==4.1.5) (1.15.1)\n",
            "Requirement already satisfied: pycparser in /usr/local/lib/python3.7/dist-packages (from cffi>=1.12->cryptography>=1.3.4->urllib3[secure,socks]~=1.26->selenium==4.1.5) (2.21)\n",
            "Collecting h11<1,>=0.9.0\n",
            "  Downloading h11-0.14.0-py3-none-any.whl (58 kB)\n",
            "\u001b[K     |████████████████████████████████| 58 kB 5.5 MB/s \n",
            "\u001b[?25hRequirement already satisfied: typing-extensions in /usr/local/lib/python3.7/dist-packages (from h11<1,>=0.9.0->wsproto>=0.14->trio-websocket~=0.9->selenium==4.1.5) (4.1.1)\n",
            "Installing collected packages: sniffio, outcome, h11, exceptiongroup, cryptography, async-generator, wsproto, urllib3-secure-extra, urllib3, trio, pyOpenSSL, trio-websocket, selenium\n",
            "  Attempting uninstall: urllib3\n",
            "    Found existing installation: urllib3 1.24.3\n",
            "    Uninstalling urllib3-1.24.3:\n",
            "      Successfully uninstalled urllib3-1.24.3\n",
            "\u001b[31mERROR: pip's dependency resolver does not currently take into account all the packages that are installed. This behaviour is the source of the following dependency conflicts.\n",
            "requests 2.23.0 requires urllib3!=1.25.0,!=1.25.1,<1.26,>=1.21.1, but you have urllib3 1.26.12 which is incompatible.\u001b[0m\n",
            "Successfully installed async-generator-1.10 cryptography-38.0.1 exceptiongroup-1.0.0rc9 h11-0.14.0 outcome-1.2.0 pyOpenSSL-22.1.0 selenium-4.1.5 sniffio-1.3.0 trio-0.22.0 trio-websocket-0.9.2 urllib3-1.26.12 urllib3-secure-extra-0.1.0 wsproto-1.2.0\n",
            "Looking in indexes: https://pypi.org/simple, https://us-python.pkg.dev/colab-wheels/public/simple/\n",
            "Collecting webdriver-manager\n",
            "  Downloading webdriver_manager-3.8.3-py2.py3-none-any.whl (26 kB)\n",
            "Collecting python-dotenv\n",
            "  Downloading python_dotenv-0.21.0-py3-none-any.whl (18 kB)\n",
            "Requirement already satisfied: tqdm in /usr/local/lib/python3.7/dist-packages (from webdriver-manager) (4.64.1)\n",
            "Requirement already satisfied: requests in /usr/local/lib/python3.7/dist-packages (from webdriver-manager) (2.23.0)\n",
            "Requirement already satisfied: chardet<4,>=3.0.2 in /usr/local/lib/python3.7/dist-packages (from requests->webdriver-manager) (3.0.4)\n",
            "Collecting urllib3!=1.25.0,!=1.25.1,<1.26,>=1.21.1\n",
            "  Downloading urllib3-1.25.11-py2.py3-none-any.whl (127 kB)\n",
            "\u001b[K     |████████████████████████████████| 127 kB 12.2 MB/s \n",
            "\u001b[?25hRequirement already satisfied: certifi>=2017.4.17 in /usr/local/lib/python3.7/dist-packages (from requests->webdriver-manager) (2022.6.15)\n",
            "Requirement already satisfied: idna<3,>=2.5 in /usr/local/lib/python3.7/dist-packages (from requests->webdriver-manager) (2.10)\n",
            "Installing collected packages: urllib3, python-dotenv, webdriver-manager\n",
            "  Attempting uninstall: urllib3\n",
            "    Found existing installation: urllib3 1.26.12\n",
            "    Uninstalling urllib3-1.26.12:\n",
            "      Successfully uninstalled urllib3-1.26.12\n",
            "\u001b[31mERROR: pip's dependency resolver does not currently take into account all the packages that are installed. This behaviour is the source of the following dependency conflicts.\n",
            "selenium 4.1.5 requires urllib3[secure,socks]~=1.26, but you have urllib3 1.25.11 which is incompatible.\u001b[0m\n",
            "Successfully installed python-dotenv-0.21.0 urllib3-1.25.11 webdriver-manager-3.8.3\n",
            "Get:1 http://security.ubuntu.com/ubuntu bionic-security InRelease [88.7 kB]\n",
            "Get:2 https://cloud.r-project.org/bin/linux/ubuntu bionic-cran40/ InRelease [3,626 B]\n",
            "Get:3 http://ppa.launchpad.net/c2d4u.team/c2d4u4.0+/ubuntu bionic InRelease [15.9 kB]\n",
            "Hit:4 http://archive.ubuntu.com/ubuntu bionic InRelease\n",
            "Ign:5 https://developer.download.nvidia.com/compute/machine-learning/repos/ubuntu1804/x86_64  InRelease\n",
            "Get:6 https://developer.download.nvidia.com/compute/cuda/repos/ubuntu1804/x86_64  InRelease [1,581 B]\n",
            "Hit:7 https://developer.download.nvidia.com/compute/machine-learning/repos/ubuntu1804/x86_64  Release\n",
            "Get:8 http://archive.ubuntu.com/ubuntu bionic-updates InRelease [88.7 kB]\n",
            "Hit:9 http://ppa.launchpad.net/cran/libgit2/ubuntu bionic InRelease\n",
            "Get:10 http://archive.ubuntu.com/ubuntu bionic-backports InRelease [83.3 kB]\n",
            "Hit:11 http://ppa.launchpad.net/deadsnakes/ppa/ubuntu bionic InRelease\n",
            "Get:12 http://security.ubuntu.com/ubuntu bionic-security/main amd64 Packages [2,990 kB]\n",
            "Get:13 http://ppa.launchpad.net/graphics-drivers/ppa/ubuntu bionic InRelease [21.3 kB]\n",
            "Get:14 http://security.ubuntu.com/ubuntu bionic-security/universe amd64 Packages [1,546 kB]\n",
            "Get:15 https://developer.download.nvidia.com/compute/cuda/repos/ubuntu1804/x86_64  Packages [913 kB]\n",
            "Get:16 http://ppa.launchpad.net/c2d4u.team/c2d4u4.0+/ubuntu bionic/main Sources [2,155 kB]\n",
            "Get:18 http://archive.ubuntu.com/ubuntu bionic-updates/main amd64 Packages [3,422 kB]\n",
            "Get:19 http://ppa.launchpad.net/c2d4u.team/c2d4u4.0+/ubuntu bionic/main amd64 Packages [1,104 kB]\n",
            "Get:20 http://archive.ubuntu.com/ubuntu bionic-updates/universe amd64 Packages [2,323 kB]\n",
            "Get:21 http://ppa.launchpad.net/graphics-drivers/ppa/ubuntu bionic/main amd64 Packages [48.3 kB]\n",
            "Fetched 14.8 MB in 4s (4,034 kB/s)\n",
            "Reading package lists... Done\n",
            "Reading package lists... Done\n",
            "Building dependency tree       \n",
            "Reading state information... Done\n",
            "The following package was automatically installed and is no longer required:\n",
            "  libnvidia-common-460\n",
            "Use 'apt autoremove' to remove it.\n",
            "The following additional packages will be installed:\n",
            "  chromium-browser chromium-browser-l10n chromium-codecs-ffmpeg-extra\n",
            "Suggested packages:\n",
            "  webaccounts-chromium-extension unity-chromium-extension\n",
            "The following NEW packages will be installed:\n",
            "  chromium-browser chromium-browser-l10n chromium-chromedriver\n",
            "  chromium-codecs-ffmpeg-extra\n",
            "0 upgraded, 4 newly installed, 0 to remove and 20 not upgraded.\n",
            "Need to get 91.7 MB of archives.\n",
            "After this operation, 309 MB of additional disk space will be used.\n",
            "Get:1 http://archive.ubuntu.com/ubuntu bionic-updates/universe amd64 chromium-codecs-ffmpeg-extra amd64 105.0.5195.102-0ubuntu0.18.04.1 [1,156 kB]\n",
            "Get:2 http://archive.ubuntu.com/ubuntu bionic-updates/universe amd64 chromium-browser amd64 105.0.5195.102-0ubuntu0.18.04.1 [80.1 MB]\n",
            "Get:3 http://archive.ubuntu.com/ubuntu bionic-updates/universe amd64 chromium-browser-l10n all 105.0.5195.102-0ubuntu0.18.04.1 [5,097 kB]\n",
            "Get:4 http://archive.ubuntu.com/ubuntu bionic-updates/universe amd64 chromium-chromedriver amd64 105.0.5195.102-0ubuntu0.18.04.1 [5,320 kB]\n",
            "Fetched 91.7 MB in 3s (28.4 MB/s)\n",
            "Selecting previously unselected package chromium-codecs-ffmpeg-extra.\n",
            "(Reading database ... 159447 files and directories currently installed.)\n",
            "Preparing to unpack .../chromium-codecs-ffmpeg-extra_105.0.5195.102-0ubuntu0.18.04.1_amd64.deb ...\n",
            "Unpacking chromium-codecs-ffmpeg-extra (105.0.5195.102-0ubuntu0.18.04.1) ...\n",
            "Selecting previously unselected package chromium-browser.\n",
            "Preparing to unpack .../chromium-browser_105.0.5195.102-0ubuntu0.18.04.1_amd64.deb ...\n",
            "Unpacking chromium-browser (105.0.5195.102-0ubuntu0.18.04.1) ...\n",
            "Selecting previously unselected package chromium-browser-l10n.\n",
            "Preparing to unpack .../chromium-browser-l10n_105.0.5195.102-0ubuntu0.18.04.1_all.deb ...\n",
            "Unpacking chromium-browser-l10n (105.0.5195.102-0ubuntu0.18.04.1) ...\n",
            "Selecting previously unselected package chromium-chromedriver.\n",
            "Preparing to unpack .../chromium-chromedriver_105.0.5195.102-0ubuntu0.18.04.1_amd64.deb ...\n",
            "Unpacking chromium-chromedriver (105.0.5195.102-0ubuntu0.18.04.1) ...\n",
            "Setting up chromium-codecs-ffmpeg-extra (105.0.5195.102-0ubuntu0.18.04.1) ...\n",
            "Setting up chromium-browser (105.0.5195.102-0ubuntu0.18.04.1) ...\n",
            "update-alternatives: using /usr/bin/chromium-browser to provide /usr/bin/x-www-browser (x-www-browser) in auto mode\n",
            "update-alternatives: using /usr/bin/chromium-browser to provide /usr/bin/gnome-www-browser (gnome-www-browser) in auto mode\n",
            "Setting up chromium-chromedriver (105.0.5195.102-0ubuntu0.18.04.1) ...\n",
            "Setting up chromium-browser-l10n (105.0.5195.102-0ubuntu0.18.04.1) ...\n",
            "Processing triggers for man-db (2.8.3-2ubuntu0.1) ...\n",
            "Processing triggers for hicolor-icon-theme (0.17-2) ...\n",
            "Processing triggers for mime-support (3.60ubuntu1) ...\n",
            "Processing triggers for libc-bin (2.27-3ubuntu1.5) ...\n",
            "cp: '/usr/lib/chromium-browser/chromedriver' and '/usr/bin/chromedriver' are the same file\n",
            "We're running on Linux-5.10.133+-x86_64-with-Ubuntu-18.04-bionic\n",
            "Python version 3.7.14\n",
            "uname_result(system='Linux', node='b5f9fcc0fe33', release='5.10.133+', version='#1 SMP Fri Aug 26 08:44:51 UTC 2022', machine='x86_64', processor='x86_64')\n",
            "helpers imported\n",
            "2022-10-03 21:04:21.646144\n"
          ]
        }
      ]
    },
    {
      "cell_type": "markdown",
      "source": [
        "#Get Earnings Call Data"
      ],
      "metadata": {
        "id": "oCdHoAYW6WoE"
      }
    },
    {
      "cell_type": "code",
      "source": [
        "key = \"MU\"\n",
        "dir = f'earning-call/{key}'\n",
        "if not os.path.isdir(dir):\n",
        "    os.makedirs(dir)\n",
        "\n",
        "url = \"https://statementdog.com/users/sign_in\"\n",
        "payload = {'email': 'ba880502@gmail.com', 'password': 'qwertyuiop'}\n",
        "headers = {'user-agent' : 'Mozilla/5.0 (Windows NT 10.0; Win64; x64) AppleWebKit/537.36 (KHTML, like Gecko) Chrome/102.0.0.0 Safari/537.36'}\n",
        "\n",
        "sys.path.insert(0,'/usr/lib/chromium-browser/chromedriver')\n",
        "options = webdriver.ChromeOptions()\n",
        "options.add_argument(\"--disable-notifications\")\n",
        "options.add_argument('--headless')\n",
        "options.add_argument('--no-sandbox')\n",
        "options.add_argument('--disable-dev-shm-usage')\n",
        "\n",
        "driver = webdriver.Chrome('chromedriver',chrome_options=options)\n",
        "driver.get(url)\n",
        "time.sleep(1)\n",
        "driver.find_element_by_id(\"user_email\").send_keys(\"ba880502@gmail.com\")\n",
        "time.sleep(1)\n",
        "driver.find_element_by_id(\"user_password\").send_keys(\"qwertyuiop\")\n",
        "time.sleep(1)\n",
        "driver.find_element_by_class_name(\"submit-btn\").click()\n",
        "time.sleep(2)\n",
        "driver.find_element_by_name(\"stockid\").send_keys(key)\n",
        "time.sleep(1)\n",
        "driver.find_element_by_class_name(\"search-form-button\").click()\n",
        "time.sleep(2)\n",
        "driver.find_element_by_class_name(\"menu-item-statement\").click()\n",
        "time.sleep(1)\n",
        "driver.find_element_by_xpath(\"//*[text()='電子書']\").click()\n",
        "time.sleep(1)\n",
        "\n",
        "soup = BeautifulSoup(driver.page_source, \"html.parser\")\n",
        "links = soup.find_all(\"a\")\n",
        "\n",
        "test = []\n",
        "\n",
        "for link in links:\n",
        "    if re.search('逐字稿', link.text) != None:\n",
        "        driver.find_element_by_xpath(f'//a[@href=\"{link[\"href\"]}\"]' ).click()\n",
        "        time.sleep(1)\n",
        "        driver.switch_to.window(driver.window_handles[1])\n",
        "        time.sleep(1)\n",
        "\n",
        "        title = driver.find_element_by_class_name(\"earnings-calls-header-title\")\n",
        "        fileNameArr = str(BeautifulSoup(title.text, \"html.parser\"))\n",
        "        fileName = key + fileNameArr[10:14] + \"_\" + \"Q\" + fileNameArr[-8]\n",
        "        # print(fileName)\n",
        "\n",
        "        containers = driver.find_element_by_class_name(\"translate-content-container\")\n",
        "        ps = BeautifulSoup(containers.text, \"html.parser\")\n",
        "\n",
        "        with open(f'./earning-call/{key}/{fileName}.txt', 'w', encoding='UTF-8') as f:            \n",
        "            for p in ps:\n",
        "                f.write(p + \"\\n\")\n",
        "                \n",
        "                # print(p.text)\n",
        "        \n",
        "        driver.close()\n",
        "        time.sleep(1)\n",
        "        driver.switch_to.window(driver.window_handles[0])\n"
      ],
      "metadata": {
        "id": "EPhjoasrPEhl",
        "colab": {
          "base_uri": "https://localhost:8080/"
        },
        "outputId": "d305daeb-e527-45ed-931e-6f23b3387ec3"
      },
      "execution_count": null,
      "outputs": [
        {
          "output_type": "stream",
          "name": "stderr",
          "text": [
            "/usr/local/lib/python3.7/dist-packages/ipykernel_launcher.py:17: DeprecationWarning: use options instead of chrome_options\n",
            "/usr/local/lib/python3.7/dist-packages/ipykernel_launcher.py:20: DeprecationWarning: find_element_by_* commands are deprecated. Please use find_element() instead\n",
            "/usr/local/lib/python3.7/dist-packages/ipykernel_launcher.py:22: DeprecationWarning: find_element_by_* commands are deprecated. Please use find_element() instead\n",
            "/usr/local/lib/python3.7/dist-packages/ipykernel_launcher.py:24: DeprecationWarning: find_element_by_class_name is deprecated. Please use find_element(by=By.CLASS_NAME, value=name) instead\n",
            "/usr/local/lib/python3.7/dist-packages/ipykernel_launcher.py:26: DeprecationWarning: find_element_by_name is deprecated. Please use find_element(by=By.NAME, value=name) instead\n",
            "/usr/local/lib/python3.7/dist-packages/ipykernel_launcher.py:28: DeprecationWarning: find_element_by_class_name is deprecated. Please use find_element(by=By.CLASS_NAME, value=name) instead\n",
            "/usr/local/lib/python3.7/dist-packages/ipykernel_launcher.py:30: DeprecationWarning: find_element_by_class_name is deprecated. Please use find_element(by=By.CLASS_NAME, value=name) instead\n",
            "/usr/local/lib/python3.7/dist-packages/ipykernel_launcher.py:32: DeprecationWarning: find_element_by_xpath is deprecated. Please use find_element(by=By.XPATH, value=xpath) instead\n",
            "/usr/local/lib/python3.7/dist-packages/ipykernel_launcher.py:42: DeprecationWarning: find_element_by_xpath is deprecated. Please use find_element(by=By.XPATH, value=xpath) instead\n",
            "/usr/local/lib/python3.7/dist-packages/ipykernel_launcher.py:47: DeprecationWarning: find_element_by_class_name is deprecated. Please use find_element(by=By.CLASS_NAME, value=name) instead\n",
            "/usr/local/lib/python3.7/dist-packages/ipykernel_launcher.py:52: DeprecationWarning: find_element_by_class_name is deprecated. Please use find_element(by=By.CLASS_NAME, value=name) instead\n"
          ]
        }
      ]
    },
    {
      "cell_type": "code",
      "source": [
        "# #刪除檔案夾\n",
        "# import shutil\n",
        "# shutil.rmtree(\"earning-call\")"
      ],
      "metadata": {
        "id": "-_rGX34sD1K4"
      },
      "execution_count": null,
      "outputs": []
    },
    {
      "cell_type": "markdown",
      "source": [
        "#Clean Data"
      ],
      "metadata": {
        "id": "Id4gHVj76cBb"
      }
    },
    {
      "cell_type": "code",
      "source": [],
      "metadata": {
        "id": "-shhVkkGAms2"
      },
      "execution_count": null,
      "outputs": []
    },
    {
      "cell_type": "code",
      "source": [
        "!wget https://github.com/odek53r/Data-Science-Camp/raw/main/SourceHanSerifK-Light.otf\n",
        "import string\n",
        "import nltk\n",
        "from nltk.tokenize import WhitespaceTokenizer\n",
        "from nltk.stem import WordNetLemmatizer\n",
        "from nltk.corpus import wordnet\n",
        "from nltk.util import ngrams\n",
        "nltk.download(\"stopwords\")\n",
        "nltk.download('wordnet')\n",
        "nltk.download('omw-1.4')\n",
        "\n",
        "def clean_data(txt_file_path):\n",
        "    nltk_stopwords = nltk.corpus.stopwords.words(\"english\")\n",
        "    for w in ['!',',','.','?','-s','-ly','</s>','s', '-']:\n",
        "        nltk_stopwords.append(w)\n",
        "        \n",
        "    lemmatizer = WordNetLemmatizer()\n",
        "\n",
        "    onegrams = []\n",
        "    twograms = []\n",
        "    threegrams = []\n",
        "    \n",
        "    with open(txt_file_path, \"r\")as fn:\n",
        "        lines = fn.readlines()\n",
        "        lines = list(map(lambda x: x.strip(),lines))\n",
        "    for line in lines:\n",
        "        if len(line) != 0:\n",
        "            two = ngrams(line.split(), 2)\n",
        "            for i in two:\n",
        "                strs = ' '.join(i)\n",
        "                twograms.append(strs.lower())\n",
        "                \n",
        "            three = ngrams(line.split(), 3)\n",
        "            for i in three:\n",
        "                strs = ' '.join(i)\n",
        "                threegrams.append(strs.lower())\n",
        "\n",
        "            x = lambda x: WhitespaceTokenizer().tokenize(x)\n",
        "            ones = x(line)\n",
        "            for one in ones:\n",
        "                if one not in nltk_stopwords and one not in string.punctuation:\n",
        "                    onegrams.append(lemmatizer.lemmatize(one.lower()))\n",
        "            \n",
        "            \n",
        "    return onegrams, twograms, threegrams\n",
        "\n",
        "def count_num(datas):\n",
        "    count = {}\n",
        "    for word in datas:\n",
        "        if word in count and len(word) >1 :\n",
        "            count[word] = count[word]+1\n",
        "        else:\n",
        "            count[word] = 1\n",
        "    return count\n",
        "\n",
        "def make_wordcloud_dict(dic):\n",
        "    import wordcloud\n",
        "    from wordcloud import WordCloud\n",
        "    import matplotlib\n",
        "    import matplotlib.pyplot as plt\n",
        "    wordcloud = WordCloud(\n",
        "            background_color = 'black',\n",
        "            font_path = './SourceHanSerifK-Light.otf', # 放入中文字型檔路徑\n",
        "            colormap=\"tab20c\",\n",
        "            width = 1600,\n",
        "            height = 800,\n",
        "            margin = 2)\n",
        "    # wordcloud 套件 Input 需放入詞頻統計的 dict 型態變數\n",
        "    wordcloud = wordcloud.generate_from_frequencies(dic) \n",
        "    plt.figure(figsize=(20,10), facecolor='k')\n",
        "    plt.imshow(wordcloud)\n",
        "    plt.axis('off')\n",
        "    plt.tight_layout(pad=0)\n",
        "    plt.show()"
      ],
      "metadata": {
        "colab": {
          "base_uri": "https://localhost:8080/"
        },
        "id": "DEqPAgofPXtH",
        "outputId": "33bb2d25-5789-40f3-862a-b26dc7adc4ef"
      },
      "execution_count": null,
      "outputs": [
        {
          "output_type": "stream",
          "name": "stdout",
          "text": [
            "--2022-10-03 14:13:41--  https://github.com/odek53r/Data-Science-Camp/raw/main/SourceHanSerifK-Light.otf\n",
            "Resolving github.com (github.com)... 140.82.112.4\n",
            "Connecting to github.com (github.com)|140.82.112.4|:443... connected.\n",
            "HTTP request sent, awaiting response... 302 Found\n",
            "Location: https://raw.githubusercontent.com/odek53r/Data-Science-Camp/main/SourceHanSerifK-Light.otf [following]\n",
            "--2022-10-03 14:13:41--  https://raw.githubusercontent.com/odek53r/Data-Science-Camp/main/SourceHanSerifK-Light.otf\n",
            "Resolving raw.githubusercontent.com (raw.githubusercontent.com)... 185.199.108.133, 185.199.109.133, 185.199.110.133, ...\n",
            "Connecting to raw.githubusercontent.com (raw.githubusercontent.com)|185.199.108.133|:443... connected.\n",
            "HTTP request sent, awaiting response... 200 OK\n",
            "Length: 23420516 (22M) [application/octet-stream]\n",
            "Saving to: ‘SourceHanSerifK-Light.otf.1’\n",
            "\n",
            "SourceHanSerifK-Lig 100%[===================>]  22.33M  --.-KB/s    in 0.06s   \n",
            "\n",
            "2022-10-03 14:13:41 (400 MB/s) - ‘SourceHanSerifK-Light.otf.1’ saved [23420516/23420516]\n",
            "\n"
          ]
        },
        {
          "output_type": "stream",
          "name": "stderr",
          "text": [
            "[nltk_data] Downloading package stopwords to /root/nltk_data...\n",
            "[nltk_data]   Package stopwords is already up-to-date!\n",
            "[nltk_data] Downloading package wordnet to /root/nltk_data...\n",
            "[nltk_data]   Package wordnet is already up-to-date!\n",
            "[nltk_data] Downloading package omw-1.4 to /root/nltk_data...\n",
            "[nltk_data]   Package omw-1.4 is already up-to-date!\n"
          ]
        }
      ]
    },
    {
      "cell_type": "code",
      "source": [
        "columns = [\"title\",\"year\", \"quarter\", \"text\", \"Server_count\", \"PC_count\"]\n",
        "EC_df = pd.DataFrame(columns = columns)\n",
        "num = 0\n",
        "for filename in os.listdir(f\"earning-call/{key}\"):\n",
        "    EC_df.loc[num, \"text\"] = clean_data(f\"./earning-call/{key}/{filename}\")\n",
        "    count = count_num(clean_data(f\"./earning-call/{key}/{filename}\")[0])\n",
        "    try:\n",
        "        server = count[\"server\"] \n",
        "    except:\n",
        "        server = 0\n",
        "    try:\n",
        "        PC = count[\"pc\"]\n",
        "    except:\n",
        "        PC = 0\n",
        "    EC_df.loc[num, \"title\"] = filename[2:-4]\n",
        "    EC_df.loc[num, \"quarter\"] = filename[-5]\n",
        "    EC_df.loc[num, \"year\"] = int(filename[2:6])\n",
        "    EC_df.loc[num, \"Server_count\"] =  server \n",
        "    EC_df.loc[num, \"PC_count\"] = PC\n",
        "    EC_df = EC_df.sort_values(by = \"title\")\n",
        "    EC_df.reset_index(inplace = True, drop = True)\n",
        "    num += 1"
      ],
      "metadata": {
        "id": "MfQ6omkTc_M1",
        "colab": {
          "base_uri": "https://localhost:8080/"
        },
        "outputId": "ce91b950-9130-482b-d878-78d784aab555"
      },
      "execution_count": null,
      "outputs": [
        {
          "output_type": "stream",
          "name": "stderr",
          "text": [
            "/usr/local/lib/python3.7/dist-packages/pandas/core/internals/blocks.py:937: VisibleDeprecationWarning: Creating an ndarray from ragged nested sequences (which is a list-or-tuple of lists-or-tuples-or ndarrays with different lengths or shapes) is deprecated. If you meant to do this, you must specify 'dtype=object' when creating the ndarray.\n",
            "  arr_value = np.asarray(value)\n"
          ]
        }
      ]
    },
    {
      "cell_type": "code",
      "source": [
        "EC_df"
      ],
      "metadata": {
        "colab": {
          "base_uri": "https://localhost:8080/",
          "height": 641
        },
        "id": "5f5-EaXjIHlH",
        "outputId": "6b75ca20-b6d2-4e6c-b16a-1e0cc7709061"
      },
      "execution_count": null,
      "outputs": [
        {
          "output_type": "execute_result",
          "data": {
            "text/plain": [
              "      title  year quarter                                               text  \\\n",
              "0   2002_Q1  2002       1  ([editor, operator, good, afternoon,, lady, ge...   \n",
              "1   2002_Q2  2002       2  ([operator, good, afternoon, lady, gentlemen.,...   \n",
              "2   2002_Q3  2002       3  ([operator, good, evening,, lady, i, said, lik...   \n",
              "3   2004_Q1  2004       1  ([operator, good, afternoon,, lady, gentleman,...   \n",
              "4   2004_Q2  2004       2  ([operator, good, afternoon,, lady, gentlemen....   \n",
              "..      ...   ...     ...                                                ...   \n",
              "72  2021_Q4  2021       4  ([operator, good, afternoon., my, name, latif,...   \n",
              "73  2022_Q1  2022       1  ([operator, hello., thank, standing, by,, welc...   \n",
              "74  2022_Q2  2022       2  ([operator, thank, standing, by,, welcome, mic...   \n",
              "75  2022_Q3  2022       3  ([operator, thank, standing, by,, welcome, mic...   \n",
              "76  2022_Q4  2022       4  ([operator, thank, standing, by,, welcome, mic...   \n",
              "\n",
              "   Server_count PC_count  \n",
              "0             0        5  \n",
              "1             9        0  \n",
              "2             0        1  \n",
              "3             0        8  \n",
              "4             0        0  \n",
              "..          ...      ...  \n",
              "72            7       31  \n",
              "73            8       22  \n",
              "74            4       10  \n",
              "75            4       17  \n",
              "76            2        8  \n",
              "\n",
              "[77 rows x 6 columns]"
            ],
            "text/html": [
              "\n",
              "  <div id=\"df-9d70752e-2895-4f2d-b95a-0b66da91c1ec\">\n",
              "    <div class=\"colab-df-container\">\n",
              "      <div>\n",
              "<style scoped>\n",
              "    .dataframe tbody tr th:only-of-type {\n",
              "        vertical-align: middle;\n",
              "    }\n",
              "\n",
              "    .dataframe tbody tr th {\n",
              "        vertical-align: top;\n",
              "    }\n",
              "\n",
              "    .dataframe thead th {\n",
              "        text-align: right;\n",
              "    }\n",
              "</style>\n",
              "<table border=\"1\" class=\"dataframe\">\n",
              "  <thead>\n",
              "    <tr style=\"text-align: right;\">\n",
              "      <th></th>\n",
              "      <th>title</th>\n",
              "      <th>year</th>\n",
              "      <th>quarter</th>\n",
              "      <th>text</th>\n",
              "      <th>Server_count</th>\n",
              "      <th>PC_count</th>\n",
              "    </tr>\n",
              "  </thead>\n",
              "  <tbody>\n",
              "    <tr>\n",
              "      <th>0</th>\n",
              "      <td>2002_Q1</td>\n",
              "      <td>2002</td>\n",
              "      <td>1</td>\n",
              "      <td>([editor, operator, good, afternoon,, lady, ge...</td>\n",
              "      <td>0</td>\n",
              "      <td>5</td>\n",
              "    </tr>\n",
              "    <tr>\n",
              "      <th>1</th>\n",
              "      <td>2002_Q2</td>\n",
              "      <td>2002</td>\n",
              "      <td>2</td>\n",
              "      <td>([operator, good, afternoon, lady, gentlemen.,...</td>\n",
              "      <td>9</td>\n",
              "      <td>0</td>\n",
              "    </tr>\n",
              "    <tr>\n",
              "      <th>2</th>\n",
              "      <td>2002_Q3</td>\n",
              "      <td>2002</td>\n",
              "      <td>3</td>\n",
              "      <td>([operator, good, evening,, lady, i, said, lik...</td>\n",
              "      <td>0</td>\n",
              "      <td>1</td>\n",
              "    </tr>\n",
              "    <tr>\n",
              "      <th>3</th>\n",
              "      <td>2004_Q1</td>\n",
              "      <td>2004</td>\n",
              "      <td>1</td>\n",
              "      <td>([operator, good, afternoon,, lady, gentleman,...</td>\n",
              "      <td>0</td>\n",
              "      <td>8</td>\n",
              "    </tr>\n",
              "    <tr>\n",
              "      <th>4</th>\n",
              "      <td>2004_Q2</td>\n",
              "      <td>2004</td>\n",
              "      <td>2</td>\n",
              "      <td>([operator, good, afternoon,, lady, gentlemen....</td>\n",
              "      <td>0</td>\n",
              "      <td>0</td>\n",
              "    </tr>\n",
              "    <tr>\n",
              "      <th>...</th>\n",
              "      <td>...</td>\n",
              "      <td>...</td>\n",
              "      <td>...</td>\n",
              "      <td>...</td>\n",
              "      <td>...</td>\n",
              "      <td>...</td>\n",
              "    </tr>\n",
              "    <tr>\n",
              "      <th>72</th>\n",
              "      <td>2021_Q4</td>\n",
              "      <td>2021</td>\n",
              "      <td>4</td>\n",
              "      <td>([operator, good, afternoon., my, name, latif,...</td>\n",
              "      <td>7</td>\n",
              "      <td>31</td>\n",
              "    </tr>\n",
              "    <tr>\n",
              "      <th>73</th>\n",
              "      <td>2022_Q1</td>\n",
              "      <td>2022</td>\n",
              "      <td>1</td>\n",
              "      <td>([operator, hello., thank, standing, by,, welc...</td>\n",
              "      <td>8</td>\n",
              "      <td>22</td>\n",
              "    </tr>\n",
              "    <tr>\n",
              "      <th>74</th>\n",
              "      <td>2022_Q2</td>\n",
              "      <td>2022</td>\n",
              "      <td>2</td>\n",
              "      <td>([operator, thank, standing, by,, welcome, mic...</td>\n",
              "      <td>4</td>\n",
              "      <td>10</td>\n",
              "    </tr>\n",
              "    <tr>\n",
              "      <th>75</th>\n",
              "      <td>2022_Q3</td>\n",
              "      <td>2022</td>\n",
              "      <td>3</td>\n",
              "      <td>([operator, thank, standing, by,, welcome, mic...</td>\n",
              "      <td>4</td>\n",
              "      <td>17</td>\n",
              "    </tr>\n",
              "    <tr>\n",
              "      <th>76</th>\n",
              "      <td>2022_Q4</td>\n",
              "      <td>2022</td>\n",
              "      <td>4</td>\n",
              "      <td>([operator, thank, standing, by,, welcome, mic...</td>\n",
              "      <td>2</td>\n",
              "      <td>8</td>\n",
              "    </tr>\n",
              "  </tbody>\n",
              "</table>\n",
              "<p>77 rows × 6 columns</p>\n",
              "</div>\n",
              "      <button class=\"colab-df-convert\" onclick=\"convertToInteractive('df-9d70752e-2895-4f2d-b95a-0b66da91c1ec')\"\n",
              "              title=\"Convert this dataframe to an interactive table.\"\n",
              "              style=\"display:none;\">\n",
              "        \n",
              "  <svg xmlns=\"http://www.w3.org/2000/svg\" height=\"24px\"viewBox=\"0 0 24 24\"\n",
              "       width=\"24px\">\n",
              "    <path d=\"M0 0h24v24H0V0z\" fill=\"none\"/>\n",
              "    <path d=\"M18.56 5.44l.94 2.06.94-2.06 2.06-.94-2.06-.94-.94-2.06-.94 2.06-2.06.94zm-11 1L8.5 8.5l.94-2.06 2.06-.94-2.06-.94L8.5 2.5l-.94 2.06-2.06.94zm10 10l.94 2.06.94-2.06 2.06-.94-2.06-.94-.94-2.06-.94 2.06-2.06.94z\"/><path d=\"M17.41 7.96l-1.37-1.37c-.4-.4-.92-.59-1.43-.59-.52 0-1.04.2-1.43.59L10.3 9.45l-7.72 7.72c-.78.78-.78 2.05 0 2.83L4 21.41c.39.39.9.59 1.41.59.51 0 1.02-.2 1.41-.59l7.78-7.78 2.81-2.81c.8-.78.8-2.07 0-2.86zM5.41 20L4 18.59l7.72-7.72 1.47 1.35L5.41 20z\"/>\n",
              "  </svg>\n",
              "      </button>\n",
              "      \n",
              "  <style>\n",
              "    .colab-df-container {\n",
              "      display:flex;\n",
              "      flex-wrap:wrap;\n",
              "      gap: 12px;\n",
              "    }\n",
              "\n",
              "    .colab-df-convert {\n",
              "      background-color: #E8F0FE;\n",
              "      border: none;\n",
              "      border-radius: 50%;\n",
              "      cursor: pointer;\n",
              "      display: none;\n",
              "      fill: #1967D2;\n",
              "      height: 32px;\n",
              "      padding: 0 0 0 0;\n",
              "      width: 32px;\n",
              "    }\n",
              "\n",
              "    .colab-df-convert:hover {\n",
              "      background-color: #E2EBFA;\n",
              "      box-shadow: 0px 1px 2px rgba(60, 64, 67, 0.3), 0px 1px 3px 1px rgba(60, 64, 67, 0.15);\n",
              "      fill: #174EA6;\n",
              "    }\n",
              "\n",
              "    [theme=dark] .colab-df-convert {\n",
              "      background-color: #3B4455;\n",
              "      fill: #D2E3FC;\n",
              "    }\n",
              "\n",
              "    [theme=dark] .colab-df-convert:hover {\n",
              "      background-color: #434B5C;\n",
              "      box-shadow: 0px 1px 3px 1px rgba(0, 0, 0, 0.15);\n",
              "      filter: drop-shadow(0px 1px 2px rgba(0, 0, 0, 0.3));\n",
              "      fill: #FFFFFF;\n",
              "    }\n",
              "  </style>\n",
              "\n",
              "      <script>\n",
              "        const buttonEl =\n",
              "          document.querySelector('#df-9d70752e-2895-4f2d-b95a-0b66da91c1ec button.colab-df-convert');\n",
              "        buttonEl.style.display =\n",
              "          google.colab.kernel.accessAllowed ? 'block' : 'none';\n",
              "\n",
              "        async function convertToInteractive(key) {\n",
              "          const element = document.querySelector('#df-9d70752e-2895-4f2d-b95a-0b66da91c1ec');\n",
              "          const dataTable =\n",
              "            await google.colab.kernel.invokeFunction('convertToInteractive',\n",
              "                                                     [key], {});\n",
              "          if (!dataTable) return;\n",
              "\n",
              "          const docLinkHtml = 'Like what you see? Visit the ' +\n",
              "            '<a target=\"_blank\" href=https://colab.research.google.com/notebooks/data_table.ipynb>data table notebook</a>'\n",
              "            + ' to learn more about interactive tables.';\n",
              "          element.innerHTML = '';\n",
              "          dataTable['output_type'] = 'display_data';\n",
              "          await google.colab.output.renderOutput(dataTable, element);\n",
              "          const docLink = document.createElement('div');\n",
              "          docLink.innerHTML = docLinkHtml;\n",
              "          element.appendChild(docLink);\n",
              "        }\n",
              "      </script>\n",
              "    </div>\n",
              "  </div>\n",
              "  "
            ]
          },
          "metadata": {},
          "execution_count": 9
        }
      ]
    },
    {
      "cell_type": "code",
      "source": [
        "all_texts = []\n",
        "for i in EC_df.index:\n",
        "    all_texts.append(\" \".join(EC_df.loc[i,\"text\"][0]))"
      ],
      "metadata": {
        "id": "sA6WjzfJC3_a"
      },
      "execution_count": null,
      "outputs": []
    },
    {
      "cell_type": "code",
      "source": [
        "all_texts"
      ],
      "metadata": {
        "id": "Y0bSMW-nMrVE"
      },
      "execution_count": null,
      "outputs": []
    },
    {
      "cell_type": "markdown",
      "source": [
        "#TF-IDF(需要修改)"
      ],
      "metadata": {
        "id": "CXT01Xf76Das"
      }
    },
    {
      "cell_type": "code",
      "source": [
        "from sklearn.feature_extraction.text import TfidfTransformer\n",
        "from sklearn.feature_extraction.text import CountVectorizer\n",
        "\n",
        "TFIDF_score = {}\n",
        "vectorizer = CountVectorizer()\n",
        "TFIDF = TfidfTransformer()\n",
        "tfidf = TFIDF.fit_transform(vectorizer.fit_transform(all_texts))\n",
        "word = vectorizer.get_feature_names()\n",
        "weight = tfidf.toarray()\n",
        "for i in range(len(weight)):\n",
        "    TFIDF_score[i] = []\n",
        "    for j in range(len(word)):\n",
        "        TFIDF_score[i].append([word[j], weight[i][j]])"
      ],
      "metadata": {
        "id": "ura7NT3edCR6",
        "colab": {
          "base_uri": "https://localhost:8080/"
        },
        "outputId": "10be3d46-fc80-45b1-cea1-c26ffb2ceecf"
      },
      "execution_count": null,
      "outputs": [
        {
          "output_type": "stream",
          "name": "stderr",
          "text": [
            "/usr/local/lib/python3.7/dist-packages/sklearn/utils/deprecation.py:87: FutureWarning: Function get_feature_names is deprecated; get_feature_names is deprecated in 1.0 and will be removed in 1.2. Please use get_feature_names_out instead.\n",
            "  warnings.warn(msg, category=FutureWarning)\n"
          ]
        }
      ]
    },
    {
      "cell_type": "code",
      "source": [
        "df = pd.DataFrame(TFIDF_score[73])\n",
        "df.sort_values(by=1, ascending = False, inplace = True)\n",
        "print(\", \".join(df[0:40][0]))"
      ],
      "metadata": {
        "colab": {
          "base_uri": "https://localhost:8080/"
        },
        "id": "eJfr13KKL3eo",
        "outputId": "e8c2e11b-6d00-4e66-ad5d-0a8d3a48f0dc"
      },
      "execution_count": null,
      "outputs": [
        {
          "output_type": "stream",
          "name": "stdout",
          "text": [
            "mark, quarter, durcan, 2013, analyst, dram, we, 2012, nand, ceo, jagadish, iyer, year, nor, product, wireless, fourth, adam, gauna, alex, group, doug, fiscal, chin, bit, market, stephen, ryan, segment, sale, president, okay, grumlose, re, think, cost, well, you, dean, freedman\n"
          ]
        }
      ]
    },
    {
      "cell_type": "markdown",
      "source": [
        "#其他關鍵詞擷取方式"
      ],
      "metadata": {
        "id": "Mp8diZj2SaXx"
      }
    },
    {
      "cell_type": "markdown",
      "source": [
        "##TextRank"
      ],
      "metadata": {
        "id": "TM4nRxEdM3cO"
      }
    },
    {
      "cell_type": "markdown",
      "source": [
        "##LDA"
      ],
      "metadata": {
        "id": "O-sOhIWONA51"
      }
    },
    {
      "cell_type": "code",
      "source": [],
      "metadata": {
        "id": "NOYt6tNENDLE"
      },
      "execution_count": null,
      "outputs": []
    },
    {
      "cell_type": "markdown",
      "source": [
        "###LDA2vec"
      ],
      "metadata": {
        "id": "IFZzeglGNGjQ"
      }
    },
    {
      "cell_type": "markdown",
      "source": [
        "##BERT"
      ],
      "metadata": {
        "id": "ObBGfKYUNHxw"
      }
    },
    {
      "cell_type": "markdown",
      "source": [
        "#Compare number of Server & PC"
      ],
      "metadata": {
        "id": "YK_7M4v660Ah"
      }
    },
    {
      "cell_type": "code",
      "source": [
        "plot_SR_PC = EC_df[EC_df[\"year\"]>2017][[\"title\", \"Server_count\", \"PC_count\"]].set_index(\"title\")"
      ],
      "metadata": {
        "id": "2o3z-7y_7T6O"
      },
      "execution_count": null,
      "outputs": []
    },
    {
      "cell_type": "code",
      "source": [
        "COLORS = [\"red\", \"orange\", \"green\"]\n",
        "TITLE = \"Compare number of Server & PC\"\n",
        "plot_SR_PC.plot.bar(figsize=(15, 10), \n",
        "            color = COLORS).legend(fontsize = 15,\n",
        "            loc = 'best', shadow = True)\n",
        "plt.ylabel(\"scores\")\n",
        "plt.title(TITLE, fontsize = 20)\n",
        "plt.xticks(fontsize=10)\n",
        "plt.yticks(fontsize=10)\n",
        "plt.xlabel(\"quarter\", fontsize=15)"
      ],
      "metadata": {
        "colab": {
          "base_uri": "https://localhost:8080/",
          "height": 496
        },
        "id": "gBCin_IX9znU",
        "outputId": "1ab5fb0c-9200-4510-b7dc-45a113d00194"
      },
      "execution_count": null,
      "outputs": [
        {
          "output_type": "execute_result",
          "data": {
            "text/plain": [
              "Text(0.5, 0, 'quarter')"
            ]
          },
          "metadata": {},
          "execution_count": 77
        },
        {
          "output_type": "display_data",
          "data": {
            "text/plain": [
              "<Figure size 1080x720 with 1 Axes>"
            ],
            "image/png": "[encoded data removed]"
          },
          "metadata": {
            "needs_background": "light"
          }
        }
      ]
    },
    {
      "cell_type": "markdown",
      "source": [
        "#Vader SentimentAnalyzer (Emotional Analyze)"
      ],
      "metadata": {
        "id": "XBw9dt9a6A3i"
      }
    },
    {
      "cell_type": "code",
      "source": [
        "# NLTK VADER for sentiment analysis\n",
        "nltk.download('vader_lexicon')\n",
        "from nltk.sentiment.vader import SentimentIntensityAnalyzer\n",
        "# New words and values\n",
        "new_words = {\n",
        "    'crushes': 10,\n",
        "    'beats': 5,\n",
        "    'misses': -5,\n",
        "    'trouble': -10,\n",
        "    'falls': -100,\n",
        "}\n",
        "# Instantiate the sentiment intensity analyzer with the existing lexicon\n",
        "vader = SentimentIntensityAnalyzer()\n",
        "# Update the lexicon\n",
        "vader.lexicon.update(new_words)"
      ],
      "metadata": {
        "id": "XpvtgyE2Xkf-"
      },
      "execution_count": null,
      "outputs": []
    },
    {
      "cell_type": "code",
      "source": [
        "# Iterate through the headlines and get the polarity scores\n",
        "scores = []\n",
        "for texts in EC_df.text.values:\n",
        "    text = \" \".join(texts[0])\n",
        "    scores.append(vader.polarity_scores(text)) \n",
        "# Convert the list of dicts into a DataFrame\n",
        "scores_df = pd.DataFrame(scores)\n",
        "# Join the DataFrames\n",
        "scored_news = pd.concat([EC_df[[\"title\", \"year\"]], scores_df], axis=1)\n",
        "scored_news.columns = [\"title\", \"year\", 'negative', 'neutral', 'positive', \"compound\"]"
      ],
      "metadata": {
        "id": "L0Nq2ZFZwWgG"
      },
      "execution_count": null,
      "outputs": []
    },
    {
      "cell_type": "markdown",
      "source": [
        "\n",
        "分類有正面、負面和中性極性分類。\n",
        "其中，compound表示複雜程度，neu表示中性，neg表示負面情緒，pos表示正面情緒。\n"
      ],
      "metadata": {
        "id": "CWTh4uZZ5hBF"
      }
    },
    {
      "cell_type": "code",
      "source": [
        "TITLE = \"Positive and negative sentiment for MU\"\n",
        "COLORS = [\"red\", \"orange\",\"green\"]\n",
        "sc = scored_news[scored_news[\"year\"]>2015].set_index(\"title\").sort_index()\n",
        "plot_scores = sc.drop(['year', 'compound'], axis=1)\n",
        "# Change the column names to 'negative', 'positive', and 'neutral'\n",
        "# plot_scores.columns = ['negative', 'neutral', 'positive']\n",
        "# Plot a stacked bar chart\n",
        "plot_scores.plot.bar(stacked = True, figsize=(15, 10), color = COLORS).legend(fontsize = 15,\n",
        "            loc = 'best', shadow = True)\n",
        "plt.ylabel(\"scores\")\n",
        "plt.title(TITLE, fontsize = 20)\n",
        "plt.xticks(fontsize=10)\n",
        "plt.yticks(fontsize=10)\n",
        "plt.xlabel(\"year\", fontsize=15)"
      ],
      "metadata": {
        "id": "_snKXdEF-v2G"
      },
      "execution_count": null,
      "outputs": []
    },
    {
      "cell_type": "code",
      "source": [
        "plot_scores_2 = plot_scores.copy()\n",
        "plot_scores_2[\"p-n\"] = plot_scores[\"positive\"] - plot_scores[\"negative\"]\n",
        "plot_scores_2[\"p-n\"].plot.bar(stacked = True, figsize=(15, 10)).legend(fontsize = 15,\n",
        "            loc = 'best', shadow = True)\n",
        "plt.ylabel(\"scores\")\n",
        "plt.title(TITLE, fontsize = 20)\n",
        "plt.xticks(fontsize=10)\n",
        "plt.yticks(fontsize=10)\n",
        "plt.xlabel(\"year\", fontsize=15)"
      ],
      "metadata": {
        "id": "JdGqVlVvL1TF"
      },
      "execution_count": null,
      "outputs": []
    },
    {
      "cell_type": "code",
      "source": [
        "plot_scores_2"
      ],
      "metadata": {
        "id": "sjTOPa3rMbrq"
      },
      "execution_count": null,
      "outputs": []
    },
    {
      "cell_type": "code",
      "source": [
        "import matplotlib.pyplot as plt\n",
        "import seaborn as sns\n",
        "mean3 = scored_news.groupby(\"year\").mean()\n",
        "\n",
        "scores =['negative', 'neutral', 'positive']\n",
        "for i in scores:\n",
        "    mean3[i].plot.bar(figsize=(15,10))\n",
        "    plt.title(i, fontsize = 20)\n",
        "    plt.xticks(fontsize=10)\n",
        "    plt.yticks(fontsize=10)\n",
        "    plt.xlabel(\"year\", fontsize=15)\n",
        "    plt.show()"
      ],
      "metadata": {
        "id": "HaCDr5SL0rZG"
      },
      "execution_count": null,
      "outputs": []
    }
  ]
}