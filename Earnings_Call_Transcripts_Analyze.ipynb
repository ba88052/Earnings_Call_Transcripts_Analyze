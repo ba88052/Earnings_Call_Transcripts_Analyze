{
  "nbformat": 4,
  "nbformat_minor": 0,
  "metadata": {
    "colab": {
      "name": "Earnings Call Transcripts Analyze",
      "provenance": [],
      "collapsed_sections": [
        "Fpw5_ZU36JQd",
        "Id4gHVj76cBb",
        "CXT01Xf76Das",
        "YK_7M4v660Ah",
        "XBw9dt9a6A3i"
      ],
      "authorship_tag": "ABX9TyNfYgQ1I0pRmGkLl40Q2Icb",
      "include_colab_link": true
    },
    "kernelspec": {
      "name": "python3",
      "display_name": "Python 3"
    },
    "language_info": {
      "name": "python"
    }
  },
  "cells": [
    {
      "cell_type": "markdown",
      "metadata": {
        "id": "view-in-github",
        "colab_type": "text"
      },
      "source": [
        "<a href=\"https://colab.research.google.com/github/ba88052/Earnings_Call_Transcripts_Analyze/blob/main/Earnings_Call_Transcripts_Analyze.ipynb\" target=\"_parent\"><img src=\"https://colab.research.google.com/assets/colab-badge.svg\" alt=\"Open In Colab\"/></a>"
      ]
    },
    {
      "cell_type": "markdown",
      "source": [
        "##Environment prepare\n"
      ],
      "metadata": {
        "id": "Fpw5_ZU36JQd"
      }
    },
    {
      "cell_type": "code",
      "source": [
        "!pip3 install beautifulsoup4\n",
        "!pip3 install selenium==4.1.5\n",
        "!pip3 install webdriver-manager\n",
        "!apt-get update # to update ubuntu to correctly run apt install\n",
        "!apt install chromium-chromedriver\n",
        "!cp /usr/lib/chromium-browser/chromedriver /usr/bin\n",
        "\n",
        "#查看是否在colab環境\n",
        "try:\n",
        "    from google.colab import drive, files\n",
        "    in_colab = True\n",
        "except ModuleNotFoundError:\n",
        "    in_colab = False\n",
        "\n",
        "from google.colab import drive\n",
        "\n",
        "#import常用套件與版本\n",
        "import numpy as np\n",
        "import pandas as pd\n",
        "import statsmodels.api as sm\n",
        "import seaborn as sns\n",
        "import matplotlib\n",
        "import matplotlib.pyplot as plt\n",
        "import scipy\n",
        "import sklearn\n",
        "import gdown\n",
        "import requests\n",
        "from bs4 import BeautifulSoup\n",
        "from selenium import webdriver\n",
        "from selenium.webdriver.chrome.options import Options\n",
        "from webdriver_manager.chrome import ChromeDriverManager\n",
        "import time\n",
        "import re\n",
        "import sys\n",
        "import os\n",
        "\n",
        "\n",
        "#掛載Google Drive（需更改路徑）\n",
        "# if in_colab:\n",
        "#   home_dir = \"\"\n",
        "#   drive.mount(\"/content/drive\")\n",
        "#   groot_dir = \"/content/drive/My Drive/DataAnalysis\"\n",
        "\n",
        "# import os\n",
        "# file1 = os.path.join(groot_dir, \"Testing.jpg\")\n",
        "# f = file1\n",
        "# print(f)\n",
        "# print(os.path.exists(f))\n",
        "\n",
        "#將印出圖片時需要的設定函數化\n",
        "def start_plot(figsize=(10, 8), style = 'whitegrid'):\n",
        "    fig = plt.figure(figsize=figsize)\n",
        "    gs = fig.add_gridspec(1,1)\n",
        "    plt.tight_layout()\n",
        "    with sns.axes_style(style):\n",
        "        ax = fig.add_subplot(gs[0,0])\n",
        "    return ax\n",
        "\n",
        "\n",
        "#偵測環境\n",
        "import platform\n",
        "print(\"We're running on\", platform.platform())\n",
        "print(\"Python version\", platform.python_version())\n",
        "print(platform.uname())\n",
        "\n",
        "\n",
        "#印出當前時間（確認時間沒問題）\n",
        "from datetime import datetime\n",
        "from dateutil.relativedelta import *\n",
        "local_time = lambda x, offset: x + relativedelta(hours= offset)\n",
        "#因為用虛擬機，內置為格林威治+0時間\n",
        "def local_now(hours = 8):\n",
        "    return datetime.now() + relativedelta(hours = hours if in_colab else 0)\n",
        "\n",
        "def print_now():\n",
        "    return print(local_now())\n",
        "\n",
        "def print_local_now():\n",
        "    return print('Local Time:', local_now())\n",
        "\n",
        "    import gdown, requests\n",
        "\n",
        "#從googledrive抓\n",
        "def fetch_gdrive_file(fid, local_save):\n",
        "    remote_url = 'https://drive.google.com/uc?id=' + fid\n",
        "    gdown.download(remote_url, local_save, quiet = False)\n",
        "\n",
        "#用requests 從網址url抓\n",
        "def fetch_file_via_requests(url, save_in_dir):\n",
        "    local_filename = url.split('/')[-1]\n",
        "    # NOTE the stream=True parameter below\n",
        "    output_fpath = save_in_dir + local_filename\n",
        "    with requests.get(url, stream=True) as r:\n",
        "        r.raise_for_status()\n",
        "        with open(output_fpath, 'wb') as f:\n",
        "            for chunk in r.iter_content(chunk_size=8192): \n",
        "                if chunk: # filter out keep-alive new chunks\n",
        "                    f.write(chunk)\n",
        "                    # f.flush()\n",
        "    return output_fpath\n",
        "\n",
        "print('helpers imported')\n",
        "print_now()\n",
        "\n",
        "\n",
        "# print('\\nData storage points to ==>', groot_dir)"
      ],
      "metadata": {
        "id": "maWqbqbhVAYz"
      },
      "execution_count": null,
      "outputs": []
    },
    {
      "cell_type": "markdown",
      "source": [
        "##Get Earnings Call Data"
      ],
      "metadata": {
        "id": "oCdHoAYW6WoE"
      }
    },
    {
      "cell_type": "code",
      "source": [
        "key = \"MU\"\n",
        "\n",
        "# os.makedirs(f'earning-call/{key}')\n",
        "\n",
        "url = \"https://statementdog.com/users/sign_in\"\n",
        "payload = {'email': 'ba880502@gmail.com', 'password': 'qwertyuiop'}\n",
        "headers = {'user-agent' : 'Mozilla/5.0 (Windows NT 10.0; Win64; x64) AppleWebKit/537.36 (KHTML, like Gecko) Chrome/102.0.0.0 Safari/537.36'}\n",
        "\n",
        "sys.path.insert(0,'/usr/lib/chromium-browser/chromedriver')\n",
        "options = webdriver.ChromeOptions()\n",
        "options.add_argument(\"--disable-notifications\")\n",
        "options.add_argument('--headless')\n",
        "options.add_argument('--no-sandbox')\n",
        "options.add_argument('--disable-dev-shm-usage')\n",
        "\n",
        "driver = webdriver.Chrome('chromedriver',chrome_options=options)\n",
        "driver.get(url)\n",
        "time.sleep(1)\n",
        "driver.find_element_by_id(\"user_email\").send_keys(\"ba880502@gmail.com\")\n",
        "time.sleep(1)\n",
        "driver.find_element_by_id(\"user_password\").send_keys(\"qwertyuiop\")\n",
        "time.sleep(1)\n",
        "driver.find_element_by_class_name(\"submit-btn\").click()\n",
        "time.sleep(2)\n",
        "driver.find_element_by_name(\"stockid\").send_keys(key)\n",
        "time.sleep(1)\n",
        "driver.find_element_by_class_name(\"stock-search-btn\").click()\n",
        "time.sleep(2)\n",
        "driver.find_element_by_class_name(\"menu-item-statement\").click()\n",
        "time.sleep(1)\n",
        "driver.find_element_by_xpath(\"//*[text()='電子書']\").click()\n",
        "time.sleep(1)\n",
        "\n",
        "soup = BeautifulSoup(driver.page_source, \"html.parser\")\n",
        "links = soup.find_all(\"a\")\n",
        "\n",
        "for link in links:\n",
        "    if re.search('逐字稿', link.text) != None:\n",
        "        # print(link[\"href\"])\n",
        "        fileNameArr = link[\"href\"].split(\"/\")\n",
        "        fileName = key + fileNameArr[-2] + \"_\" + \"Q\" + fileNameArr[-1]\n",
        "        # print(fileName)\n",
        "        driver.find_element_by_xpath(f'//a[@href=\"{link[\"href\"]}\"]' ).click()\n",
        "        time.sleep(1)\n",
        "        driver.switch_to.window(driver.window_handles[1])\n",
        "        time.sleep(1)\n",
        "        containers = driver.find_element_by_class_name(\"translate-content-container\")\n",
        "        ps = BeautifulSoup(containers.text, \"html.parser\")\n",
        "\n",
        "        with open(f'./earning-call/{key}/{fileName}.txt', 'w', encoding='UTF-8') as f:            \n",
        "            for p in ps:\n",
        "                f.write(p + \"\\n\")\n",
        "                \n",
        "                # print(p.text)\n",
        "        \n",
        "        driver.close()\n",
        "        time.sleep(1)\n",
        "        driver.switch_to.window(driver.window_handles[0])\n"
      ],
      "metadata": {
        "id": "EPhjoasrPEhl",
        "colab": {
          "base_uri": "https://localhost:8080/",
          "height": 244
        },
        "outputId": "75faf555-e499-4b87-9960-668837df72b4"
      },
      "execution_count": null,
      "outputs": [
        {
          "output_type": "error",
          "ename": "NameError",
          "evalue": "ignored",
          "traceback": [
            "\u001b[0;31m---------------------------------------------------------------------------\u001b[0m",
            "\u001b[0;31mNameError\u001b[0m                                 Traceback (most recent call last)",
            "\u001b[0;32m<ipython-input-1-22dd0b3bbf68>\u001b[0m in \u001b[0;36m<module>\u001b[0;34m()\u001b[0m\n\u001b[1;32m      7\u001b[0m \u001b[0mheaders\u001b[0m \u001b[0;34m=\u001b[0m \u001b[0;34m{\u001b[0m\u001b[0;34m'user-agent'\u001b[0m \u001b[0;34m:\u001b[0m \u001b[0;34m'Mozilla/5.0 (Windows NT 10.0; Win64; x64) AppleWebKit/537.36 (KHTML, like Gecko) Chrome/102.0.0.0 Safari/537.36'\u001b[0m\u001b[0;34m}\u001b[0m\u001b[0;34m\u001b[0m\u001b[0;34m\u001b[0m\u001b[0m\n\u001b[1;32m      8\u001b[0m \u001b[0;34m\u001b[0m\u001b[0m\n\u001b[0;32m----> 9\u001b[0;31m \u001b[0msys\u001b[0m\u001b[0;34m.\u001b[0m\u001b[0mpath\u001b[0m\u001b[0;34m.\u001b[0m\u001b[0minsert\u001b[0m\u001b[0;34m(\u001b[0m\u001b[0;36m0\u001b[0m\u001b[0;34m,\u001b[0m\u001b[0;34m'/usr/lib/chromium-browser/chromedriver'\u001b[0m\u001b[0;34m)\u001b[0m\u001b[0;34m\u001b[0m\u001b[0;34m\u001b[0m\u001b[0m\n\u001b[0m\u001b[1;32m     10\u001b[0m \u001b[0moptions\u001b[0m \u001b[0;34m=\u001b[0m \u001b[0mwebdriver\u001b[0m\u001b[0;34m.\u001b[0m\u001b[0mChromeOptions\u001b[0m\u001b[0;34m(\u001b[0m\u001b[0;34m)\u001b[0m\u001b[0;34m\u001b[0m\u001b[0;34m\u001b[0m\u001b[0m\n\u001b[1;32m     11\u001b[0m \u001b[0moptions\u001b[0m\u001b[0;34m.\u001b[0m\u001b[0madd_argument\u001b[0m\u001b[0;34m(\u001b[0m\u001b[0;34m\"--disable-notifications\"\u001b[0m\u001b[0;34m)\u001b[0m\u001b[0;34m\u001b[0m\u001b[0;34m\u001b[0m\u001b[0m\n",
            "\u001b[0;31mNameError\u001b[0m: name 'sys' is not defined"
          ]
        }
      ]
    },
    {
      "cell_type": "markdown",
      "source": [
        "##Clean Data\n",
        "EN_df"
      ],
      "metadata": {
        "id": "Id4gHVj76cBb"
      }
    },
    {
      "cell_type": "code",
      "source": [
        "!wget https://github.com/odek53r/Data-Science-Camp/raw/main/SourceHanSerifK-Light.otf\n",
        "import string\n",
        "import nltk\n",
        "from nltk.tokenize import WhitespaceTokenizer\n",
        "from nltk.stem import WordNetLemmatizer\n",
        "from nltk.corpus import wordnet\n",
        "from nltk.util import ngrams\n",
        "nltk.download(\"stopwords\")\n",
        "nltk.download('wordnet')\n",
        "nltk.download('omw-1.4')\n",
        "\n",
        "def clean_data(txt_file_path):\n",
        "    nltk_stopwords = nltk.corpus.stopwords.words(\"english\")\n",
        "    for w in ['!',',','.','?','-s','-ly','</s>','s', '-']:\n",
        "        nltk_stopwords.append(w)\n",
        "        \n",
        "    lemmatizer = WordNetLemmatizer()\n",
        "\n",
        "    onegrams = []\n",
        "    twograms = []\n",
        "    threegrams = []\n",
        "    \n",
        "    with open(txt_file_path, \"r\")as fn:\n",
        "        lines = fn.readlines()\n",
        "        lines = list(map(lambda x: x.strip(),lines))\n",
        "    for line in lines:\n",
        "        if len(line) != 0:\n",
        "            two = ngrams(line.split(), 2)\n",
        "            for i in two:\n",
        "                strs = ' '.join(i)\n",
        "                twograms.append(strs.lower())\n",
        "                \n",
        "            three = ngrams(line.split(), 3)\n",
        "            for i in three:\n",
        "                strs = ' '.join(i)\n",
        "                threegrams.append(strs.lower())\n",
        "\n",
        "            x = lambda x: WhitespaceTokenizer().tokenize(x)\n",
        "            ones = x(line)\n",
        "            for one in ones:\n",
        "                if one not in nltk_stopwords and one not in string.punctuation:\n",
        "                    onegrams.append(lemmatizer.lemmatize(one.lower()))\n",
        "            \n",
        "            \n",
        "    return onegrams, twograms, threegrams\n",
        "\n",
        "def count_num(datas):\n",
        "    count = {}\n",
        "    for word in datas:\n",
        "        if word in count and len(word) >1 :\n",
        "            count[word] = count[word]+1\n",
        "        else:\n",
        "            count[word] = 1\n",
        "    return count\n",
        "\n",
        "def make_wordcloud_dict(dic):\n",
        "    import wordcloud\n",
        "    from wordcloud import WordCloud\n",
        "    import matplotlib\n",
        "    import matplotlib.pyplot as plt\n",
        "    wordcloud = WordCloud(\n",
        "            background_color = 'black',\n",
        "            font_path = './SourceHanSerifK-Light.otf', # 放入中文字型檔路徑\n",
        "            colormap=\"tab20c\",\n",
        "            width = 1600,\n",
        "            height = 800,\n",
        "            margin = 2)\n",
        "    # wordcloud 套件 Input 需放入詞頻統計的 dict 型態變數\n",
        "    wordcloud = wordcloud.generate_from_frequencies(dic) \n",
        "    plt.figure(figsize=(20,10), facecolor='k')\n",
        "    plt.imshow(wordcloud)\n",
        "    plt.axis('off')\n",
        "    plt.tight_layout(pad=0)\n",
        "    plt.show()"
      ],
      "metadata": {
        "colab": {
          "base_uri": "https://localhost:8080/"
        },
        "id": "DEqPAgofPXtH",
        "outputId": "2d02b89f-e383-41c0-8865-f7f08b5f8f79"
      },
      "execution_count": null,
      "outputs": [
        {
          "output_type": "stream",
          "name": "stdout",
          "text": [
            "--2022-06-17 15:08:38--  https://github.com/odek53r/Data-Science-Camp/raw/main/SourceHanSerifK-Light.otf\n",
            "Resolving github.com (github.com)... 140.82.112.3\n",
            "Connecting to github.com (github.com)|140.82.112.3|:443... connected.\n",
            "HTTP request sent, awaiting response... 302 Found\n",
            "Location: https://raw.githubusercontent.com/odek53r/Data-Science-Camp/main/SourceHanSerifK-Light.otf [following]\n",
            "--2022-06-17 15:08:38--  https://raw.githubusercontent.com/odek53r/Data-Science-Camp/main/SourceHanSerifK-Light.otf\n",
            "Resolving raw.githubusercontent.com (raw.githubusercontent.com)... 185.199.108.133, 185.199.109.133, 185.199.110.133, ...\n",
            "Connecting to raw.githubusercontent.com (raw.githubusercontent.com)|185.199.108.133|:443... connected.\n",
            "HTTP request sent, awaiting response... 200 OK\n",
            "Length: 23420516 (22M) [application/octet-stream]\n",
            "Saving to: ‘SourceHanSerifK-Light.otf’\n",
            "\n",
            "SourceHanSerifK-Lig 100%[===================>]  22.33M  78.0MB/s    in 0.3s    \n",
            "\n",
            "2022-06-17 15:08:38 (78.0 MB/s) - ‘SourceHanSerifK-Light.otf’ saved [23420516/23420516]\n",
            "\n"
          ]
        },
        {
          "output_type": "stream",
          "name": "stderr",
          "text": [
            "[nltk_data] Downloading package stopwords to /root/nltk_data...\n",
            "[nltk_data]   Unzipping corpora/stopwords.zip.\n",
            "[nltk_data] Downloading package wordnet to /root/nltk_data...\n",
            "[nltk_data]   Unzipping corpora/wordnet.zip.\n",
            "[nltk_data] Downloading package omw-1.4 to /root/nltk_data...\n",
            "[nltk_data]   Unzipping corpora/omw-1.4.zip.\n"
          ]
        }
      ]
    },
    {
      "cell_type": "code",
      "source": [
        "columns = [\"year\", \"quarter\", \"text\", \"Server_count\", \"PC_count\"]\n",
        "EC_df = pd.DataFrame(columns = columns)\n",
        "num = 0\n",
        "for filename in os.listdir(f\"earning-call/{key}\"):\n",
        "    EC_df.loc[num, \"text\"] = clean_data(f\"./earning-call/{key}/{filename}\")\n",
        "    count = count_num(clean_data(f\"./earning-call/{key}/{filename}\")[0])\n",
        "    try:\n",
        "        server = count[\"server\"] \n",
        "    except:\n",
        "        server = 0\n",
        "    try:\n",
        "        PC = count[\"pc\"]\n",
        "    except:\n",
        "        PC = 0\n",
        "    EC_df.loc[num, \"quarter\"] = filename[:-4]\n",
        "    EC_df.loc[num, \"year\"] = int(filename[2:6])\n",
        "    EC_df.loc[num, \"Server_count\"] =  server \n",
        "    EC_df.loc[num, \"PC_count\"] = PC\n",
        "    EC_df = EC_df.sort_values(by = \"quarter\")\n",
        "    EC_df.reset_index(inplace = True, drop = True)\n",
        "\n",
        "    num += 1"
      ],
      "metadata": {
        "id": "MfQ6omkTc_M1",
        "colab": {
          "base_uri": "https://localhost:8080/"
        },
        "outputId": "d57dbbcf-d090-43fd-ef3c-08b73ff1b52c"
      },
      "execution_count": null,
      "outputs": [
        {
          "output_type": "stream",
          "name": "stderr",
          "text": [
            "/usr/local/lib/python3.7/dist-packages/pandas/core/internals/blocks.py:937: VisibleDeprecationWarning: Creating an ndarray from ragged nested sequences (which is a list-or-tuple of lists-or-tuples-or ndarrays with different lengths or shapes) is deprecated. If you meant to do this, you must specify 'dtype=object' when creating the ndarray.\n",
            "  arr_value = np.asarray(value)\n"
          ]
        }
      ]
    },
    {
      "cell_type": "markdown",
      "source": [
        "##TF-IDF(Find the Keyword)"
      ],
      "metadata": {
        "id": "CXT01Xf76Das"
      }
    },
    {
      "cell_type": "code",
      "source": [
        "all_texts = []\n",
        "for i in EC_df.index:\n",
        "    all_texts.append(\" \".join(EC_df.loc[i,\"text\"][0]))"
      ],
      "metadata": {
        "id": "sA6WjzfJC3_a"
      },
      "execution_count": null,
      "outputs": []
    },
    {
      "cell_type": "code",
      "source": [
        "from sklearn.feature_extraction.text import TfidfTransformer\n",
        "from sklearn.feature_extraction.text import CountVectorizer\n",
        "\n",
        "TFIDF_score = {}\n",
        "vectorizer = CountVectorizer()\n",
        "TFIDF = TfidfTransformer()\n",
        "tfidf = TFIDF.fit_transform(vectorizer.fit_transform(all_texts))\n",
        "word = vectorizer.get_feature_names()\n",
        "weight = tfidf.toarray()\n",
        "for i in range(len(weight)):\n",
        "    TFIDF_score[i] = []\n",
        "    for j in range(len(word)):\n",
        "        TFIDF_score[i].append([word[j], weight[i][j]])"
      ],
      "metadata": {
        "id": "ura7NT3edCR6",
        "colab": {
          "base_uri": "https://localhost:8080/"
        },
        "outputId": "d7f7ac63-eb91-4c75-d918-ffd0c941354e"
      },
      "execution_count": null,
      "outputs": [
        {
          "output_type": "stream",
          "name": "stderr",
          "text": [
            "/usr/local/lib/python3.7/dist-packages/sklearn/utils/deprecation.py:87: FutureWarning: Function get_feature_names is deprecated; get_feature_names is deprecated in 1.0 and will be removed in 1.2. Please use get_feature_names_out instead.\n",
            "  warnings.warn(msg, category=FutureWarning)\n"
          ]
        }
      ]
    },
    {
      "cell_type": "code",
      "source": [
        "df = pd.DataFrame(TFIDF_score[73])\n",
        "df.sort_values(by=1, ascending = False, inplace = True)\n",
        "print(\", \".join(df[0:40][0]))"
      ],
      "metadata": {
        "colab": {
          "base_uri": "https://localhost:8080/"
        },
        "id": "eJfr13KKL3eo",
        "outputId": "ccdcf99c-448b-492a-8826-30115cbe2d97"
      },
      "execution_count": null,
      "outputs": [
        {
          "output_type": "stream",
          "name": "stdout",
          "text": [
            "year, fq1, 22, and, 2022, sanjay, demand, quarter, we, ddr5, supply, revenue, expect, so, ltas, dram, calendar, course, customer, shortage, industry, growth, fiscal, 176, strong, memory, 5g, well, mehrotra, nand, term, product, bit, over, alpha, pc, billion, director, ev, long\n"
          ]
        }
      ]
    },
    {
      "cell_type": "markdown",
      "source": [
        "##Compare number of Server & PC"
      ],
      "metadata": {
        "id": "YK_7M4v660Ah"
      }
    },
    {
      "cell_type": "code",
      "source": [
        "plot_SR_PC = EC_df[EC_df[\"year\"]>2017][[\"quarter\", \"Server_count\", \"PC_count\"]].set_index(\"quarter\")"
      ],
      "metadata": {
        "id": "2o3z-7y_7T6O"
      },
      "execution_count": null,
      "outputs": []
    },
    {
      "cell_type": "code",
      "source": [
        "COLORS = [\"red\", \"orange\", \"green\"]\n",
        "TITLE = \"Compare number of Server & PC\"\n",
        "plot_SR_PC.plot.bar(figsize=(15, 10), \n",
        "            color = COLORS).legend(fontsize = 15,\n",
        "            loc = 'best', shadow = True)\n",
        "plt.ylabel(\"scores\")\n",
        "plt.title(TITLE, fontsize = 20)\n",
        "plt.xticks(fontsize=10)\n",
        "plt.yticks(fontsize=10)\n",
        "plt.xlabel(\"quarter\", fontsize=15)"
      ],
      "metadata": {
        "colab": {
          "base_uri": "https://localhost:8080/",
          "height": 700
        },
        "id": "gBCin_IX9znU",
        "outputId": "f89bc874-6e84-4ccc-f1ec-6a748bea1977"
      },
      "execution_count": null,
      "outputs": [
        {
          "output_type": "execute_result",
          "data": {
            "text/plain": [
              "Text(0.5, 0, 'quarter')"
            ]
          },
          "metadata": {},
          "execution_count": 10
        },
        {
          "output_type": "display_data",
          "data": {
            "text/plain": [
              "<Figure size 1080x720 with 1 Axes>"
            ],
            "image/png": "[encoded data removed]"
          },
          "metadata": {
            "needs_background": "light"
          }
        }
      ]
    },
    {
      "cell_type": "markdown",
      "source": [
        "##Vader SentimentAnalyzer (Emotional Analyze)"
      ],
      "metadata": {
        "id": "XBw9dt9a6A3i"
      }
    },
    {
      "cell_type": "code",
      "source": [
        "# NLTK VADER for sentiment analysis\n",
        "nltk.download('vader_lexicon')\n",
        "from nltk.sentiment.vader import SentimentIntensityAnalyzer\n",
        "# New words and values\n",
        "new_words = {\n",
        "    'crushes': 10,\n",
        "    'beats': 5,\n",
        "    'misses': -5,\n",
        "    'trouble': -10,\n",
        "    'falls': -100,\n",
        "}\n",
        "# Instantiate the sentiment intensity analyzer with the existing lexicon\n",
        "vader = SentimentIntensityAnalyzer()\n",
        "# Update the lexicon\n",
        "vader.lexicon.update(new_words)"
      ],
      "metadata": {
        "colab": {
          "base_uri": "https://localhost:8080/"
        },
        "id": "XpvtgyE2Xkf-",
        "outputId": "b1f026bb-28a0-41c1-a7c8-e8f3fbe64e6a"
      },
      "execution_count": null,
      "outputs": [
        {
          "output_type": "stream",
          "name": "stderr",
          "text": [
            "[nltk_data] Downloading package vader_lexicon to /root/nltk_data...\n"
          ]
        }
      ]
    },
    {
      "cell_type": "code",
      "source": [
        "# Iterate through the headlines and get the polarity scores\n",
        "scores = []\n",
        "for texts in EC_df.text.values:\n",
        "    text = \" \".join(texts[0])\n",
        "    scores.append(vader.polarity_scores(text)) \n",
        "# Convert the list of dicts into a DataFrame\n",
        "scores_df = pd.DataFrame(scores)\n",
        "# Join the DataFrames\n",
        "scored_news = pd.concat([EC_df[[\"quarter\", \"year\"]], scores_df], axis=1)\n",
        "scored_news.columns = [\"quarter\", \"year\", 'negative', 'neutral', 'positive', \"compound\"]"
      ],
      "metadata": {
        "id": "L0Nq2ZFZwWgG"
      },
      "execution_count": null,
      "outputs": []
    },
    {
      "cell_type": "markdown",
      "source": [
        "\n",
        "分類有正面、負面和中性極性分類。\n",
        "其中，compound表示複雜程度，neu表示中性，neg表示負面情緒，pos表示正面情緒。\n"
      ],
      "metadata": {
        "id": "CWTh4uZZ5hBF"
      }
    },
    {
      "cell_type": "code",
      "source": [
        "TITLE = \"Positive, negative and neutral sentiment for MU\"\n",
        "COLORS = [\"red\", \"orange\", \"green\"]\n",
        "sc = scored_news[scored_news[\"year\"]>2015].set_index(\"quarter\").sort_index()\n",
        "plot_scores = sc.drop(['year', 'compound'], axis=1)\n",
        "# Change the column names to 'negative', 'positive', and 'neutral'\n",
        "plot_scores.columns = ['negative', 'neutral', 'positive']\n",
        "# Plot a stacked bar chart\n",
        "plot_scores.plot.bar(stacked = True, figsize=(15, 10), color = COLORS).legend(fontsize = 15,\n",
        "            loc = 'best', shadow = True)\n",
        "plt.ylabel(\"scores\")\n",
        "plt.title(TITLE, fontsize = 20)\n",
        "plt.xticks(fontsize=10)\n",
        "plt.yticks(fontsize=10)\n",
        "plt.xlabel(\"year\", fontsize=15)"
      ],
      "metadata": {
        "colab": {
          "base_uri": "https://localhost:8080/",
          "height": 700
        },
        "id": "_snKXdEF-v2G",
        "outputId": "0c80038c-f014-4990-cad5-0116eaabe781"
      },
      "execution_count": null,
      "outputs": [
        {
          "output_type": "execute_result",
          "data": {
            "text/plain": [
              "Text(0.5, 0, 'year')"
            ]
          },
          "metadata": {},
          "execution_count": 13
        },
        {
          "output_type": "display_data",
          "data": {
            "text/plain": [
              "<Figure size 1080x720 with 1 Axes>"
            ],
            "image/png": "[encoded data removed]"
          },
          "metadata": {
            "needs_background": "light"
          }
        }
      ]
    },
    {
      "cell_type": "code",
      "source": [
        "import matplotlib.pyplot as plt\n",
        "import seaborn as sns\n",
        "mean3 = scored_news.groupby(\"year\").mean()\n",
        "\n",
        "scores =['negative', 'neutral', 'positive']\n",
        "for i in scores:\n",
        "    mean3[i].plot.bar(figsize=(15,10))\n",
        "    plt.title(i, fontsize = 20)\n",
        "    plt.xticks(fontsize=10)\n",
        "    plt.yticks(fontsize=10)\n",
        "    plt.xlabel(\"year\", fontsize=15)\n",
        "    plt.show()"
      ],
      "metadata": {
        "colab": {
          "base_uri": "https://localhost:8080/",
          "height": 1000
        },
        "id": "HaCDr5SL0rZG",
        "outputId": "fc5d2bdf-acfd-4f3a-c0fd-d13c05e1a58a"
      },
      "execution_count": null,
      "outputs": [
        {
          "output_type": "display_data",
          "data": {
            "text/plain": [
              "<Figure size 1080x720 with 1 Axes>"
            ],
            "image/png": "[encoded data removed]"
          },
          "metadata": {
            "needs_background": "light"
          }
        },
        {
          "output_type": "display_data",
          "data": {
            "text/plain": [
              "<Figure size 1080x720 with 1 Axes>"
            ],
            "image/png": "[encoded data removed]"
          },
          "metadata": {
            "needs_background": "light"
          }
        },
        {
          "output_type": "display_data",
          "data": {
            "text/plain": [
              "<Figure size 1080x720 with 1 Axes>"
            ],
            "image/png": "[encoded data removed]"
          },
          "metadata": {
            "needs_background": "light"
          }
        }
      ]
    }
  ]
}