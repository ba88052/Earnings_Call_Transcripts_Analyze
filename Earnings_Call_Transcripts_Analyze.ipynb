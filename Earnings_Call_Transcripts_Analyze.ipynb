{
  "nbformat": 4,
  "nbformat_minor": 0,
  "metadata": {
    "colab": {
      "name": "Earnings Call Transcripts Analyze",
      "provenance": [],
      "collapsed_sections": [
        "Fpw5_ZU36JQd",
        "Id4gHVj76cBb",
        "CXT01Xf76Das",
        "YK_7M4v660Ah",
        "XBw9dt9a6A3i"
      ],
      "authorship_tag": "ABX9TyPuJHmJiob8UuVqy14lS7TB",
      "include_colab_link": true
    },
    "kernelspec": {
      "name": "python3",
      "display_name": "Python 3"
    },
    "language_info": {
      "name": "python"
    }
  },
  "cells": [
    {
      "cell_type": "markdown",
      "metadata": {
        "id": "view-in-github",
        "colab_type": "text"
      },
      "source": [
        "<a href=\"https://colab.research.google.com/github/ba88052/Earnings_Call_Transcripts_Analyze/blob/main/Earnings_Call_Transcripts_Analyze.ipynb\" target=\"_parent\"><img src=\"https://colab.research.google.com/assets/colab-badge.svg\" alt=\"Open In Colab\"/></a>"
      ]
    },
    {
      "cell_type": "markdown",
      "source": [
        "##Environment prepare\n"
      ],
      "metadata": {
        "id": "Fpw5_ZU36JQd"
      }
    },
    {
      "cell_type": "code",
      "source": [
        "!pip3 install beautifulsoup4\n",
        "!pip3 install selenium==4.1.5\n",
        "!pip3 install webdriver-manager\n",
        "!apt-get update # to update ubuntu to correctly run apt install\n",
        "!apt install chromium-chromedriver\n",
        "!cp /usr/lib/chromium-browser/chromedriver /usr/bin\n",
        "\n",
        "#查看是否在colab環境\n",
        "try:\n",
        "    from google.colab import drive, files\n",
        "    in_colab = True\n",
        "except ModuleNotFoundError:\n",
        "    in_colab = False\n",
        "\n",
        "from google.colab import drive\n",
        "\n",
        "#import常用套件與版本\n",
        "import numpy as np\n",
        "import pandas as pd\n",
        "import statsmodels.api as sm\n",
        "import seaborn as sns\n",
        "import matplotlib\n",
        "import matplotlib.pyplot as plt\n",
        "import scipy\n",
        "import sklearn\n",
        "import gdown\n",
        "import requests\n",
        "from bs4 import BeautifulSoup\n",
        "from selenium import webdriver\n",
        "from selenium.webdriver.chrome.options import Options\n",
        "from webdriver_manager.chrome import ChromeDriverManager\n",
        "import time\n",
        "import re\n",
        "import sys\n",
        "import os\n",
        "\n",
        "\n",
        "#掛載Google Drive（需更改路徑）\n",
        "# if in_colab:\n",
        "#   home_dir = \"\"\n",
        "#   drive.mount(\"/content/drive\")\n",
        "#   groot_dir = \"/content/drive/My Drive/DataAnalysis\"\n",
        "\n",
        "# import os\n",
        "# file1 = os.path.join(groot_dir, \"Testing.jpg\")\n",
        "# f = file1\n",
        "# print(f)\n",
        "# print(os.path.exists(f))\n",
        "\n",
        "#將印出圖片時需要的設定函數化\n",
        "def start_plot(figsize=(10, 8), style = 'whitegrid'):\n",
        "    fig = plt.figure(figsize=figsize)\n",
        "    gs = fig.add_gridspec(1,1)\n",
        "    plt.tight_layout()\n",
        "    with sns.axes_style(style):\n",
        "        ax = fig.add_subplot(gs[0,0])\n",
        "    return ax\n",
        "\n",
        "\n",
        "#偵測環境\n",
        "import platform\n",
        "print(\"We're running on\", platform.platform())\n",
        "print(\"Python version\", platform.python_version())\n",
        "print(platform.uname())\n",
        "\n",
        "\n",
        "#印出當前時間（確認時間沒問題）\n",
        "from datetime import datetime\n",
        "from dateutil.relativedelta import *\n",
        "local_time = lambda x, offset: x + relativedelta(hours= offset)\n",
        "#因為用虛擬機，內置為格林威治+0時間\n",
        "def local_now(hours = 8):\n",
        "    return datetime.now() + relativedelta(hours = hours if in_colab else 0)\n",
        "\n",
        "def print_now():\n",
        "    return print(local_now())\n",
        "\n",
        "def print_local_now():\n",
        "    return print('Local Time:', local_now())\n",
        "\n",
        "    import gdown, requests\n",
        "\n",
        "#從googledrive抓\n",
        "def fetch_gdrive_file(fid, local_save):\n",
        "    remote_url = 'https://drive.google.com/uc?id=' + fid\n",
        "    gdown.download(remote_url, local_save, quiet = False)\n",
        "\n",
        "#用requests 從網址url抓\n",
        "def fetch_file_via_requests(url, save_in_dir):\n",
        "    local_filename = url.split('/')[-1]\n",
        "    # NOTE the stream=True parameter below\n",
        "    output_fpath = save_in_dir + local_filename\n",
        "    with requests.get(url, stream=True) as r:\n",
        "        r.raise_for_status()\n",
        "        with open(output_fpath, 'wb') as f:\n",
        "            for chunk in r.iter_content(chunk_size=8192): \n",
        "                if chunk: # filter out keep-alive new chunks\n",
        "                    f.write(chunk)\n",
        "                    # f.flush()\n",
        "    return output_fpath\n",
        "\n",
        "print('helpers imported')\n",
        "print_now()\n",
        "\n",
        "\n",
        "# print('\\nData storage points to ==>', groot_dir)"
      ],
      "metadata": {
        "id": "maWqbqbhVAYz"
      },
      "execution_count": null,
      "outputs": []
    },
    {
      "cell_type": "markdown",
      "source": [
        "##Get Earnings Call Data"
      ],
      "metadata": {
        "id": "oCdHoAYW6WoE"
      }
    },
    {
      "cell_type": "code",
      "source": [
        "key = \"MU\"\n",
        "dir = f'earning-call/{key}'\n",
        "if not os.path.isdir(dir):\n",
        "    os.makedirs(dir)\n",
        "\n",
        "url = \"https://statementdog.com/users/sign_in\"\n",
        "payload = {'email': 'ba880502@gmail.com', 'password': 'qwertyuiop'}\n",
        "headers = {'user-agent' : 'Mozilla/5.0 (Windows NT 10.0; Win64; x64) AppleWebKit/537.36 (KHTML, like Gecko) Chrome/102.0.0.0 Safari/537.36'}\n",
        "\n",
        "sys.path.insert(0,'/usr/lib/chromium-browser/chromedriver')\n",
        "options = webdriver.ChromeOptions()\n",
        "options.add_argument(\"--disable-notifications\")\n",
        "options.add_argument('--headless')\n",
        "options.add_argument('--no-sandbox')\n",
        "options.add_argument('--disable-dev-shm-usage')\n",
        "\n",
        "driver = webdriver.Chrome('chromedriver',chrome_options=options)\n",
        "driver.get(url)\n",
        "time.sleep(1)\n",
        "driver.find_element_by_id(\"user_email\").send_keys(\"ba880502@gmail.com\")\n",
        "time.sleep(1)\n",
        "driver.find_element_by_id(\"user_password\").send_keys(\"qwertyuiop\")\n",
        "time.sleep(1)\n",
        "driver.find_element_by_class_name(\"submit-btn\").click()\n",
        "time.sleep(2)\n",
        "driver.find_element_by_name(\"stockid\").send_keys(key)\n",
        "time.sleep(1)\n",
        "driver.find_element_by_class_name(\"search-form-button\").click()\n",
        "time.sleep(2)\n",
        "driver.find_element_by_class_name(\"menu-item-statement\").click()\n",
        "time.sleep(1)\n",
        "driver.find_element_by_xpath(\"//*[text()='電子書']\").click()\n",
        "time.sleep(1)\n",
        "\n",
        "soup = BeautifulSoup(driver.page_source, \"html.parser\")\n",
        "links = soup.find_all(\"a\")\n",
        "\n",
        "test = []\n",
        "\n",
        "for link in links:\n",
        "    if re.search('逐字稿', link.text) != None:\n",
        "        driver.find_element_by_xpath(f'//a[@href=\"{link[\"href\"]}\"]' ).click()\n",
        "        time.sleep(1)\n",
        "        driver.switch_to.window(driver.window_handles[1])\n",
        "        time.sleep(1)\n",
        "\n",
        "        title = driver.find_element_by_class_name(\"earnings-calls-header-title\")\n",
        "        fileNameArr = str(BeautifulSoup(title.text, \"html.parser\"))\n",
        "        fileName = key + fileNameArr[10:14] + \"_\" + \"Q\" + fileNameArr[-8]\n",
        "        # print(fileName)\n",
        "\n",
        "        containers = driver.find_element_by_class_name(\"translate-content-container\")\n",
        "        ps = BeautifulSoup(containers.text, \"html.parser\")\n",
        "\n",
        "        with open(f'./earning-call/{key}/{fileName}.txt', 'w', encoding='UTF-8') as f:            \n",
        "            for p in ps:\n",
        "                f.write(p + \"\\n\")\n",
        "                \n",
        "                # print(p.text)\n",
        "        \n",
        "        driver.close()\n",
        "        time.sleep(1)\n",
        "        driver.switch_to.window(driver.window_handles[0])\n"
      ],
      "metadata": {
        "id": "EPhjoasrPEhl"
      },
      "execution_count": null,
      "outputs": []
    },
    {
      "cell_type": "code",
      "source": [
        "# #刪除檔案夾\n",
        "# import shutil\n",
        "# shutil.rmtree(\"earning-call\")"
      ],
      "metadata": {
        "id": "-_rGX34sD1K4"
      },
      "execution_count": null,
      "outputs": []
    },
    {
      "cell_type": "markdown",
      "source": [
        "##Clean Data\n",
        "EN_df"
      ],
      "metadata": {
        "id": "Id4gHVj76cBb"
      }
    },
    {
      "cell_type": "code",
      "source": [
        ""
      ],
      "metadata": {
        "id": "-shhVkkGAms2"
      },
      "execution_count": null,
      "outputs": []
    },
    {
      "cell_type": "code",
      "source": [
        "!wget https://github.com/odek53r/Data-Science-Camp/raw/main/SourceHanSerifK-Light.otf\n",
        "import string\n",
        "import nltk\n",
        "from nltk.tokenize import WhitespaceTokenizer\n",
        "from nltk.stem import WordNetLemmatizer\n",
        "from nltk.corpus import wordnet\n",
        "from nltk.util import ngrams\n",
        "nltk.download(\"stopwords\")\n",
        "nltk.download('wordnet')\n",
        "nltk.download('omw-1.4')\n",
        "\n",
        "def clean_data(txt_file_path):\n",
        "    nltk_stopwords = nltk.corpus.stopwords.words(\"english\")\n",
        "    for w in ['!',',','.','?','-s','-ly','</s>','s', '-']:\n",
        "        nltk_stopwords.append(w)\n",
        "        \n",
        "    lemmatizer = WordNetLemmatizer()\n",
        "\n",
        "    onegrams = []\n",
        "    twograms = []\n",
        "    threegrams = []\n",
        "    \n",
        "    with open(txt_file_path, \"r\")as fn:\n",
        "        lines = fn.readlines()\n",
        "        lines = list(map(lambda x: x.strip(),lines))\n",
        "    for line in lines:\n",
        "        if len(line) != 0:\n",
        "            two = ngrams(line.split(), 2)\n",
        "            for i in two:\n",
        "                strs = ' '.join(i)\n",
        "                twograms.append(strs.lower())\n",
        "                \n",
        "            three = ngrams(line.split(), 3)\n",
        "            for i in three:\n",
        "                strs = ' '.join(i)\n",
        "                threegrams.append(strs.lower())\n",
        "\n",
        "            x = lambda x: WhitespaceTokenizer().tokenize(x)\n",
        "            ones = x(line)\n",
        "            for one in ones:\n",
        "                if one not in nltk_stopwords and one not in string.punctuation:\n",
        "                    onegrams.append(lemmatizer.lemmatize(one.lower()))\n",
        "            \n",
        "            \n",
        "    return onegrams, twograms, threegrams\n",
        "\n",
        "def count_num(datas):\n",
        "    count = {}\n",
        "    for word in datas:\n",
        "        if word in count and len(word) >1 :\n",
        "            count[word] = count[word]+1\n",
        "        else:\n",
        "            count[word] = 1\n",
        "    return count\n",
        "\n",
        "def make_wordcloud_dict(dic):\n",
        "    import wordcloud\n",
        "    from wordcloud import WordCloud\n",
        "    import matplotlib\n",
        "    import matplotlib.pyplot as plt\n",
        "    wordcloud = WordCloud(\n",
        "            background_color = 'black',\n",
        "            font_path = './SourceHanSerifK-Light.otf', # 放入中文字型檔路徑\n",
        "            colormap=\"tab20c\",\n",
        "            width = 1600,\n",
        "            height = 800,\n",
        "            margin = 2)\n",
        "    # wordcloud 套件 Input 需放入詞頻統計的 dict 型態變數\n",
        "    wordcloud = wordcloud.generate_from_frequencies(dic) \n",
        "    plt.figure(figsize=(20,10), facecolor='k')\n",
        "    plt.imshow(wordcloud)\n",
        "    plt.axis('off')\n",
        "    plt.tight_layout(pad=0)\n",
        "    plt.show()"
      ],
      "metadata": {
        "colab": {
          "base_uri": "https://localhost:8080/"
        },
        "id": "DEqPAgofPXtH",
        "outputId": "bda15355-a404-4876-bddb-6ab0d6f4e777"
      },
      "execution_count": 52,
      "outputs": [
        {
          "output_type": "stream",
          "name": "stdout",
          "text": [
            "--2022-08-21 06:38:51--  https://github.com/odek53r/Data-Science-Camp/raw/main/SourceHanSerifK-Light.otf\n",
            "Resolving github.com (github.com)... 140.82.114.3\n",
            "Connecting to github.com (github.com)|140.82.114.3|:443... connected.\n",
            "HTTP request sent, awaiting response... 302 Found\n",
            "Location: https://raw.githubusercontent.com/odek53r/Data-Science-Camp/main/SourceHanSerifK-Light.otf [following]\n",
            "--2022-08-21 06:38:51--  https://raw.githubusercontent.com/odek53r/Data-Science-Camp/main/SourceHanSerifK-Light.otf\n",
            "Resolving raw.githubusercontent.com (raw.githubusercontent.com)... 185.199.108.133, 185.199.109.133, 185.199.110.133, ...\n",
            "Connecting to raw.githubusercontent.com (raw.githubusercontent.com)|185.199.108.133|:443... connected.\n",
            "HTTP request sent, awaiting response... 200 OK\n",
            "Length: 23420516 (22M) [application/octet-stream]\n",
            "Saving to: ‘SourceHanSerifK-Light.otf.1’\n",
            "\n",
            "SourceHanSerifK-Lig 100%[===================>]  22.33M   139MB/s    in 0.2s    \n",
            "\n",
            "2022-08-21 06:38:51 (139 MB/s) - ‘SourceHanSerifK-Light.otf.1’ saved [23420516/23420516]\n",
            "\n"
          ]
        },
        {
          "output_type": "stream",
          "name": "stderr",
          "text": [
            "[nltk_data] Downloading package stopwords to /root/nltk_data...\n",
            "[nltk_data]   Package stopwords is already up-to-date!\n",
            "[nltk_data] Downloading package wordnet to /root/nltk_data...\n",
            "[nltk_data]   Package wordnet is already up-to-date!\n",
            "[nltk_data] Downloading package omw-1.4 to /root/nltk_data...\n",
            "[nltk_data]   Package omw-1.4 is already up-to-date!\n"
          ]
        }
      ]
    },
    {
      "cell_type": "code",
      "source": [
        "columns = [\"title\",\"year\", \"quarter\", \"text\", \"Server_count\", \"PC_count\"]\n",
        "EC_df = pd.DataFrame(columns = columns)\n",
        "num = 0\n",
        "for filename in os.listdir(f\"earning-call/{key}\"):\n",
        "    EC_df.loc[num, \"text\"] = clean_data(f\"./earning-call/{key}/{filename}\")\n",
        "    count = count_num(clean_data(f\"./earning-call/{key}/{filename}\")[0])\n",
        "    try:\n",
        "        server = count[\"server\"] \n",
        "    except:\n",
        "        server = 0\n",
        "    try:\n",
        "        PC = count[\"pc\"]\n",
        "    except:\n",
        "        PC = 0\n",
        "    EC_df.loc[num, \"title\"] = filename[2:-4]\n",
        "    EC_df.loc[num, \"quarter\"] = filename[-5]\n",
        "    EC_df.loc[num, \"year\"] = int(filename[2:6])\n",
        "    EC_df.loc[num, \"Server_count\"] =  server \n",
        "    EC_df.loc[num, \"PC_count\"] = PC\n",
        "    EC_df = EC_df.sort_values(by = \"title\")\n",
        "    EC_df.reset_index(inplace = True, drop = True)\n",
        "    num += 1"
      ],
      "metadata": {
        "id": "MfQ6omkTc_M1",
        "colab": {
          "base_uri": "https://localhost:8080/"
        },
        "outputId": "bcfccea2-5f90-48c1-edb4-c6fd6c26ecc5"
      },
      "execution_count": 73,
      "outputs": [
        {
          "output_type": "stream",
          "name": "stderr",
          "text": [
            "/usr/local/lib/python3.7/dist-packages/pandas/core/internals/blocks.py:937: VisibleDeprecationWarning: Creating an ndarray from ragged nested sequences (which is a list-or-tuple of lists-or-tuples-or ndarrays with different lengths or shapes) is deprecated. If you meant to do this, you must specify 'dtype=object' when creating the ndarray.\n",
            "  arr_value = np.asarray(value)\n"
          ]
        }
      ]
    },
    {
      "cell_type": "code",
      "source": [
        "EC_df"
      ],
      "metadata": {
        "colab": {
          "base_uri": "https://localhost:8080/",
          "height": 641
        },
        "id": "5f5-EaXjIHlH",
        "outputId": "1291cc0e-038d-4300-9356-42741249f794"
      },
      "execution_count": 74,
      "outputs": [
        {
          "output_type": "execute_result",
          "data": {
            "text/plain": [
              "      title  year quarter                                               text  \\\n",
              "0   2002_Q1  2002       1  ([editor, operator, good, afternoon,, lady, ge...   \n",
              "1   2002_Q2  2002       2  ([operator, good, afternoon, lady, gentlemen.,...   \n",
              "2   2002_Q3  2002       3  ([operator, good, evening,, lady, i, said, lik...   \n",
              "3   2004_Q1  2004       1  ([operator, good, afternoon,, lady, gentleman,...   \n",
              "4   2004_Q2  2004       2  ([operator, good, afternoon,, lady, gentlemen....   \n",
              "..      ...   ...     ...                                                ...   \n",
              "71  2021_Q3  2021       3  ([operator, good, afternoon., my, name, josh,,...   \n",
              "72  2021_Q4  2021       4  ([operator, good, afternoon., my, name, latif,...   \n",
              "73  2022_Q1  2022       1  ([operator, hello., thank, standing, by,, welc...   \n",
              "74  2022_Q2  2022       2  ([operator, thank, standing, by,, welcome, mic...   \n",
              "75  2022_Q3  2022       3  ([operator, thank, standing, by,, welcome, mic...   \n",
              "\n",
              "   Server_count PC_count  \n",
              "0             0        5  \n",
              "1             9        0  \n",
              "2             0        1  \n",
              "3             0        8  \n",
              "4             0        0  \n",
              "..          ...      ...  \n",
              "71            5        6  \n",
              "72            7       31  \n",
              "73            8       22  \n",
              "74            4       10  \n",
              "75            4       17  \n",
              "\n",
              "[76 rows x 6 columns]"
            ],
            "text/html": [
              "\n",
              "  <div id=\"df-e11d03ca-90c5-4286-bd8b-f3e67018fb34\">\n",
              "    <div class=\"colab-df-container\">\n",
              "      <div>\n",
              "<style scoped>\n",
              "    .dataframe tbody tr th:only-of-type {\n",
              "        vertical-align: middle;\n",
              "    }\n",
              "\n",
              "    .dataframe tbody tr th {\n",
              "        vertical-align: top;\n",
              "    }\n",
              "\n",
              "    .dataframe thead th {\n",
              "        text-align: right;\n",
              "    }\n",
              "</style>\n",
              "<table border=\"1\" class=\"dataframe\">\n",
              "  <thead>\n",
              "    <tr style=\"text-align: right;\">\n",
              "      <th></th>\n",
              "      <th>title</th>\n",
              "      <th>year</th>\n",
              "      <th>quarter</th>\n",
              "      <th>text</th>\n",
              "      <th>Server_count</th>\n",
              "      <th>PC_count</th>\n",
              "    </tr>\n",
              "  </thead>\n",
              "  <tbody>\n",
              "    <tr>\n",
              "      <th>0</th>\n",
              "      <td>2002_Q1</td>\n",
              "      <td>2002</td>\n",
              "      <td>1</td>\n",
              "      <td>([editor, operator, good, afternoon,, lady, ge...</td>\n",
              "      <td>0</td>\n",
              "      <td>5</td>\n",
              "    </tr>\n",
              "    <tr>\n",
              "      <th>1</th>\n",
              "      <td>2002_Q2</td>\n",
              "      <td>2002</td>\n",
              "      <td>2</td>\n",
              "      <td>([operator, good, afternoon, lady, gentlemen.,...</td>\n",
              "      <td>9</td>\n",
              "      <td>0</td>\n",
              "    </tr>\n",
              "    <tr>\n",
              "      <th>2</th>\n",
              "      <td>2002_Q3</td>\n",
              "      <td>2002</td>\n",
              "      <td>3</td>\n",
              "      <td>([operator, good, evening,, lady, i, said, lik...</td>\n",
              "      <td>0</td>\n",
              "      <td>1</td>\n",
              "    </tr>\n",
              "    <tr>\n",
              "      <th>3</th>\n",
              "      <td>2004_Q1</td>\n",
              "      <td>2004</td>\n",
              "      <td>1</td>\n",
              "      <td>([operator, good, afternoon,, lady, gentleman,...</td>\n",
              "      <td>0</td>\n",
              "      <td>8</td>\n",
              "    </tr>\n",
              "    <tr>\n",
              "      <th>4</th>\n",
              "      <td>2004_Q2</td>\n",
              "      <td>2004</td>\n",
              "      <td>2</td>\n",
              "      <td>([operator, good, afternoon,, lady, gentlemen....</td>\n",
              "      <td>0</td>\n",
              "      <td>0</td>\n",
              "    </tr>\n",
              "    <tr>\n",
              "      <th>...</th>\n",
              "      <td>...</td>\n",
              "      <td>...</td>\n",
              "      <td>...</td>\n",
              "      <td>...</td>\n",
              "      <td>...</td>\n",
              "      <td>...</td>\n",
              "    </tr>\n",
              "    <tr>\n",
              "      <th>71</th>\n",
              "      <td>2021_Q3</td>\n",
              "      <td>2021</td>\n",
              "      <td>3</td>\n",
              "      <td>([operator, good, afternoon., my, name, josh,,...</td>\n",
              "      <td>5</td>\n",
              "      <td>6</td>\n",
              "    </tr>\n",
              "    <tr>\n",
              "      <th>72</th>\n",
              "      <td>2021_Q4</td>\n",
              "      <td>2021</td>\n",
              "      <td>4</td>\n",
              "      <td>([operator, good, afternoon., my, name, latif,...</td>\n",
              "      <td>7</td>\n",
              "      <td>31</td>\n",
              "    </tr>\n",
              "    <tr>\n",
              "      <th>73</th>\n",
              "      <td>2022_Q1</td>\n",
              "      <td>2022</td>\n",
              "      <td>1</td>\n",
              "      <td>([operator, hello., thank, standing, by,, welc...</td>\n",
              "      <td>8</td>\n",
              "      <td>22</td>\n",
              "    </tr>\n",
              "    <tr>\n",
              "      <th>74</th>\n",
              "      <td>2022_Q2</td>\n",
              "      <td>2022</td>\n",
              "      <td>2</td>\n",
              "      <td>([operator, thank, standing, by,, welcome, mic...</td>\n",
              "      <td>4</td>\n",
              "      <td>10</td>\n",
              "    </tr>\n",
              "    <tr>\n",
              "      <th>75</th>\n",
              "      <td>2022_Q3</td>\n",
              "      <td>2022</td>\n",
              "      <td>3</td>\n",
              "      <td>([operator, thank, standing, by,, welcome, mic...</td>\n",
              "      <td>4</td>\n",
              "      <td>17</td>\n",
              "    </tr>\n",
              "  </tbody>\n",
              "</table>\n",
              "<p>76 rows × 6 columns</p>\n",
              "</div>\n",
              "      <button class=\"colab-df-convert\" onclick=\"convertToInteractive('df-e11d03ca-90c5-4286-bd8b-f3e67018fb34')\"\n",
              "              title=\"Convert this dataframe to an interactive table.\"\n",
              "              style=\"display:none;\">\n",
              "        \n",
              "  <svg xmlns=\"http://www.w3.org/2000/svg\" height=\"24px\"viewBox=\"0 0 24 24\"\n",
              "       width=\"24px\">\n",
              "    <path d=\"M0 0h24v24H0V0z\" fill=\"none\"/>\n",
              "    <path d=\"M18.56 5.44l.94 2.06.94-2.06 2.06-.94-2.06-.94-.94-2.06-.94 2.06-2.06.94zm-11 1L8.5 8.5l.94-2.06 2.06-.94-2.06-.94L8.5 2.5l-.94 2.06-2.06.94zm10 10l.94 2.06.94-2.06 2.06-.94-2.06-.94-.94-2.06-.94 2.06-2.06.94z\"/><path d=\"M17.41 7.96l-1.37-1.37c-.4-.4-.92-.59-1.43-.59-.52 0-1.04.2-1.43.59L10.3 9.45l-7.72 7.72c-.78.78-.78 2.05 0 2.83L4 21.41c.39.39.9.59 1.41.59.51 0 1.02-.2 1.41-.59l7.78-7.78 2.81-2.81c.8-.78.8-2.07 0-2.86zM5.41 20L4 18.59l7.72-7.72 1.47 1.35L5.41 20z\"/>\n",
              "  </svg>\n",
              "      </button>\n",
              "      \n",
              "  <style>\n",
              "    .colab-df-container {\n",
              "      display:flex;\n",
              "      flex-wrap:wrap;\n",
              "      gap: 12px;\n",
              "    }\n",
              "\n",
              "    .colab-df-convert {\n",
              "      background-color: #E8F0FE;\n",
              "      border: none;\n",
              "      border-radius: 50%;\n",
              "      cursor: pointer;\n",
              "      display: none;\n",
              "      fill: #1967D2;\n",
              "      height: 32px;\n",
              "      padding: 0 0 0 0;\n",
              "      width: 32px;\n",
              "    }\n",
              "\n",
              "    .colab-df-convert:hover {\n",
              "      background-color: #E2EBFA;\n",
              "      box-shadow: 0px 1px 2px rgba(60, 64, 67, 0.3), 0px 1px 3px 1px rgba(60, 64, 67, 0.15);\n",
              "      fill: #174EA6;\n",
              "    }\n",
              "\n",
              "    [theme=dark] .colab-df-convert {\n",
              "      background-color: #3B4455;\n",
              "      fill: #D2E3FC;\n",
              "    }\n",
              "\n",
              "    [theme=dark] .colab-df-convert:hover {\n",
              "      background-color: #434B5C;\n",
              "      box-shadow: 0px 1px 3px 1px rgba(0, 0, 0, 0.15);\n",
              "      filter: drop-shadow(0px 1px 2px rgba(0, 0, 0, 0.3));\n",
              "      fill: #FFFFFF;\n",
              "    }\n",
              "  </style>\n",
              "\n",
              "      <script>\n",
              "        const buttonEl =\n",
              "          document.querySelector('#df-e11d03ca-90c5-4286-bd8b-f3e67018fb34 button.colab-df-convert');\n",
              "        buttonEl.style.display =\n",
              "          google.colab.kernel.accessAllowed ? 'block' : 'none';\n",
              "\n",
              "        async function convertToInteractive(key) {\n",
              "          const element = document.querySelector('#df-e11d03ca-90c5-4286-bd8b-f3e67018fb34');\n",
              "          const dataTable =\n",
              "            await google.colab.kernel.invokeFunction('convertToInteractive',\n",
              "                                                     [key], {});\n",
              "          if (!dataTable) return;\n",
              "\n",
              "          const docLinkHtml = 'Like what you see? Visit the ' +\n",
              "            '<a target=\"_blank\" href=https://colab.research.google.com/notebooks/data_table.ipynb>data table notebook</a>'\n",
              "            + ' to learn more about interactive tables.';\n",
              "          element.innerHTML = '';\n",
              "          dataTable['output_type'] = 'display_data';\n",
              "          await google.colab.output.renderOutput(dataTable, element);\n",
              "          const docLink = document.createElement('div');\n",
              "          docLink.innerHTML = docLinkHtml;\n",
              "          element.appendChild(docLink);\n",
              "        }\n",
              "      </script>\n",
              "    </div>\n",
              "  </div>\n",
              "  "
            ]
          },
          "metadata": {},
          "execution_count": 74
        }
      ]
    },
    {
      "cell_type": "markdown",
      "source": [
        "##TF-IDF(Find the Keyword)"
      ],
      "metadata": {
        "id": "CXT01Xf76Das"
      }
    },
    {
      "cell_type": "code",
      "source": [
        "all_texts = []\n",
        "for i in EC_df.index:\n",
        "    all_texts.append(\" \".join(EC_df.loc[i,\"text\"][0]))"
      ],
      "metadata": {
        "id": "sA6WjzfJC3_a"
      },
      "execution_count": 57,
      "outputs": []
    },
    {
      "cell_type": "code",
      "source": [
        "from sklearn.feature_extraction.text import TfidfTransformer\n",
        "from sklearn.feature_extraction.text import CountVectorizer\n",
        "\n",
        "TFIDF_score = {}\n",
        "vectorizer = CountVectorizer()\n",
        "TFIDF = TfidfTransformer()\n",
        "tfidf = TFIDF.fit_transform(vectorizer.fit_transform(all_texts))\n",
        "word = vectorizer.get_feature_names()\n",
        "weight = tfidf.toarray()\n",
        "for i in range(len(weight)):\n",
        "    TFIDF_score[i] = []\n",
        "    for j in range(len(word)):\n",
        "        TFIDF_score[i].append([word[j], weight[i][j]])"
      ],
      "metadata": {
        "id": "ura7NT3edCR6",
        "colab": {
          "base_uri": "https://localhost:8080/"
        },
        "outputId": "10be3d46-fc80-45b1-cea1-c26ffb2ceecf"
      },
      "execution_count": 58,
      "outputs": [
        {
          "output_type": "stream",
          "name": "stderr",
          "text": [
            "/usr/local/lib/python3.7/dist-packages/sklearn/utils/deprecation.py:87: FutureWarning: Function get_feature_names is deprecated; get_feature_names is deprecated in 1.0 and will be removed in 1.2. Please use get_feature_names_out instead.\n",
            "  warnings.warn(msg, category=FutureWarning)\n"
          ]
        }
      ]
    },
    {
      "cell_type": "code",
      "source": [
        "df = pd.DataFrame(TFIDF_score[73])\n",
        "df.sort_values(by=1, ascending = False, inplace = True)\n",
        "print(\", \".join(df[0:40][0]))"
      ],
      "metadata": {
        "colab": {
          "base_uri": "https://localhost:8080/"
        },
        "id": "eJfr13KKL3eo",
        "outputId": "e8c2e11b-6d00-4e66-ad5d-0a8d3a48f0dc"
      },
      "execution_count": 59,
      "outputs": [
        {
          "output_type": "stream",
          "name": "stdout",
          "text": [
            "mark, quarter, durcan, 2013, analyst, dram, we, 2012, nand, ceo, jagadish, iyer, year, nor, product, wireless, fourth, adam, gauna, alex, group, doug, fiscal, chin, bit, market, stephen, ryan, segment, sale, president, okay, grumlose, re, think, cost, well, you, dean, freedman\n"
          ]
        }
      ]
    },
    {
      "cell_type": "markdown",
      "source": [
        "##Compare number of Server & PC"
      ],
      "metadata": {
        "id": "YK_7M4v660Ah"
      }
    },
    {
      "cell_type": "code",
      "source": [
        "plot_SR_PC = EC_df[EC_df[\"year\"]>2017][[\"title\", \"Server_count\", \"PC_count\"]].set_index(\"title\")"
      ],
      "metadata": {
        "id": "2o3z-7y_7T6O"
      },
      "execution_count": 76,
      "outputs": []
    },
    {
      "cell_type": "code",
      "source": [
        "COLORS = [\"red\", \"orange\", \"green\"]\n",
        "TITLE = \"Compare number of Server & PC\"\n",
        "plot_SR_PC.plot.bar(figsize=(15, 10), \n",
        "            color = COLORS).legend(fontsize = 15,\n",
        "            loc = 'best', shadow = True)\n",
        "plt.ylabel(\"scores\")\n",
        "plt.title(TITLE, fontsize = 20)\n",
        "plt.xticks(fontsize=10)\n",
        "plt.yticks(fontsize=10)\n",
        "plt.xlabel(\"quarter\", fontsize=15)"
      ],
      "metadata": {
        "colab": {
          "base_uri": "https://localhost:8080/",
          "height": 496
        },
        "id": "gBCin_IX9znU",
        "outputId": "1ab5fb0c-9200-4510-b7dc-45a113d00194"
      },
      "execution_count": 77,
      "outputs": [
        {
          "output_type": "execute_result",
          "data": {
            "text/plain": [
              "Text(0.5, 0, 'quarter')"
            ]
          },
          "metadata": {},
          "execution_count": 77
        },
        {
          "output_type": "display_data",
          "data": {
            "text/plain": [
              "<Figure size 1080x720 with 1 Axes>"
            ],
            "image/png": "[encoded data removed]"
          },
          "metadata": {
            "needs_background": "light"
          }
        }
      ]
    },
    {
      "cell_type": "markdown",
      "source": [
        "##Vader SentimentAnalyzer (Emotional Analyze)"
      ],
      "metadata": {
        "id": "XBw9dt9a6A3i"
      }
    },
    {
      "cell_type": "code",
      "source": [
        "# NLTK VADER for sentiment analysis\n",
        "nltk.download('vader_lexicon')\n",
        "from nltk.sentiment.vader import SentimentIntensityAnalyzer\n",
        "# New words and values\n",
        "new_words = {\n",
        "    'crushes': 10,\n",
        "    'beats': 5,\n",
        "    'misses': -5,\n",
        "    'trouble': -10,\n",
        "    'falls': -100,\n",
        "}\n",
        "# Instantiate the sentiment intensity analyzer with the existing lexicon\n",
        "vader = SentimentIntensityAnalyzer()\n",
        "# Update the lexicon\n",
        "vader.lexicon.update(new_words)"
      ],
      "metadata": {
        "colab": {
          "base_uri": "https://localhost:8080/"
        },
        "id": "XpvtgyE2Xkf-",
        "outputId": "36e05c17-4824-4b94-b5e9-ee532e9fccd8"
      },
      "execution_count": 78,
      "outputs": [
        {
          "output_type": "stream",
          "name": "stderr",
          "text": [
            "[nltk_data] Downloading package vader_lexicon to /root/nltk_data...\n"
          ]
        }
      ]
    },
    {
      "cell_type": "code",
      "source": [
        "# Iterate through the headlines and get the polarity scores\n",
        "scores = []\n",
        "for texts in EC_df.text.values:\n",
        "    text = \" \".join(texts[0])\n",
        "    scores.append(vader.polarity_scores(text)) \n",
        "# Convert the list of dicts into a DataFrame\n",
        "scores_df = pd.DataFrame(scores)\n",
        "# Join the DataFrames\n",
        "scored_news = pd.concat([EC_df[[\"title\", \"year\"]], scores_df], axis=1)\n",
        "scored_news.columns = [\"title\", \"year\", 'negative', 'neutral', 'positive', \"compound\"]"
      ],
      "metadata": {
        "id": "L0Nq2ZFZwWgG"
      },
      "execution_count": 84,
      "outputs": []
    },
    {
      "cell_type": "markdown",
      "source": [
        "\n",
        "分類有正面、負面和中性極性分類。\n",
        "其中，compound表示複雜程度，neu表示中性，neg表示負面情緒，pos表示正面情緒。\n"
      ],
      "metadata": {
        "id": "CWTh4uZZ5hBF"
      }
    },
    {
      "cell_type": "code",
      "source": [
        "TITLE = \"Positive and negative sentiment for MU\"\n",
        "COLORS = [\"red\", \"orange\",\"green\"]\n",
        "sc = scored_news[scored_news[\"year\"]>2015].set_index(\"title\").sort_index()\n",
        "plot_scores = sc.drop(['year', 'compound'], axis=1)\n",
        "# Change the column names to 'negative', 'positive', and 'neutral'\n",
        "# plot_scores.columns = ['negative', 'neutral', 'positive']\n",
        "# Plot a stacked bar chart\n",
        "plot_scores.plot.bar(stacked = True, figsize=(15, 10), color = COLORS).legend(fontsize = 15,\n",
        "            loc = 'best', shadow = True)\n",
        "plt.ylabel(\"scores\")\n",
        "plt.title(TITLE, fontsize = 20)\n",
        "plt.xticks(fontsize=10)\n",
        "plt.yticks(fontsize=10)\n",
        "plt.xlabel(\"year\", fontsize=15)"
      ],
      "metadata": {
        "colab": {
          "base_uri": "https://localhost:8080/",
          "height": 704
        },
        "id": "_snKXdEF-v2G",
        "outputId": "1e89754a-091e-4659-aabc-22e16cdd91a2"
      },
      "execution_count": 88,
      "outputs": [
        {
          "output_type": "execute_result",
          "data": {
            "text/plain": [
              "Text(0.5, 0, 'year')"
            ]
          },
          "metadata": {},
          "execution_count": 88
        },
        {
          "output_type": "display_data",
          "data": {
            "text/plain": [
              "<Figure size 1080x720 with 1 Axes>"
            ],
            "image/png": "[encoded data removed]"
          },
          "metadata": {
            "needs_background": "light"
          }
        }
      ]
    },
    {
      "cell_type": "code",
      "source": [
        "plot_scores_2 = plot_scores.copy()\n",
        "plot_scores_2[\"p-n\"] = plot_scores[\"positive\"] - plot_scores[\"negative\"]\n",
        "plot_scores_2[\"p-n\"].plot.bar(stacked = True, figsize=(15, 10)).legend(fontsize = 15,\n",
        "            loc = 'best', shadow = True)\n",
        "plt.ylabel(\"scores\")\n",
        "plt.title(TITLE, fontsize = 20)\n",
        "plt.xticks(fontsize=10)\n",
        "plt.yticks(fontsize=10)\n",
        "plt.xlabel(\"year\", fontsize=15)"
      ],
      "metadata": {
        "colab": {
          "base_uri": "https://localhost:8080/",
          "height": 491
        },
        "id": "JdGqVlVvL1TF",
        "outputId": "95947d87-4a4e-4838-d386-b472c4b7989c"
      },
      "execution_count": 93,
      "outputs": [
        {
          "output_type": "execute_result",
          "data": {
            "text/plain": [
              "Text(0.5, 0, 'year')"
            ]
          },
          "metadata": {},
          "execution_count": 93
        },
        {
          "output_type": "display_data",
          "data": {
            "text/plain": [
              "<Figure size 1080x720 with 1 Axes>"
            ],
            "image/png": "[encoded data removed]"
          },
          "metadata": {
            "needs_background": "light"
          }
        }
      ]
    },
    {
      "cell_type": "code",
      "source": [
        "plot_scores_2"
      ],
      "metadata": {
        "colab": {
          "base_uri": "https://localhost:8080/",
          "height": 927
        },
        "id": "sjTOPa3rMbrq",
        "outputId": "51098966-b816-429d-993a-121b07e55414"
      },
      "execution_count": 94,
      "outputs": [
        {
          "output_type": "execute_result",
          "data": {
            "text/plain": [
              "         negative  neutral  positive    p-n\n",
              "title                                      \n",
              "2016_Q1     0.030    0.733     0.237  0.207\n",
              "2016_Q2     0.034    0.718     0.248  0.214\n",
              "2016_Q3     0.022    0.761     0.217  0.195\n",
              "2016_Q4     0.021    0.733     0.247  0.226\n",
              "2017_Q1     0.020    0.729     0.252  0.232\n",
              "2017_Q2     0.029    0.762     0.209  0.180\n",
              "2017_Q3     0.010    0.803     0.187  0.177\n",
              "2017_Q4     0.018    0.819     0.163  0.145\n",
              "2018_Q1     0.016    0.828     0.157  0.141\n",
              "2018_Q2     0.015    0.855     0.130  0.115\n",
              "2018_Q3     0.029    0.818     0.153  0.124\n",
              "2018_Q4     0.031    0.781     0.188  0.157\n",
              "2019_Q1     0.024    0.841     0.135  0.111\n",
              "2019_Q2     0.033    0.822     0.145  0.112\n",
              "2019_Q3     0.023    0.819     0.158  0.135\n",
              "2019_Q4     0.032    0.834     0.134  0.102\n",
              "2020_Q1     0.033    0.795     0.172  0.139\n",
              "2020_Q2     0.034    0.789     0.177  0.143\n",
              "2020_Q3     0.029    0.782     0.188  0.159\n",
              "2020_Q4     0.063    0.721     0.216  0.153\n",
              "2021_Q1     0.044    0.748     0.208  0.164\n",
              "2021_Q2     0.043    0.759     0.198  0.155\n",
              "2021_Q3     0.034    0.772     0.194  0.160\n",
              "2021_Q4     0.039    0.761     0.201  0.162\n",
              "2022_Q1     0.034    0.778     0.189  0.155\n",
              "2022_Q2     0.038    0.736     0.226  0.188\n",
              "2022_Q3     0.039    0.760     0.201  0.162"
            ],
            "text/html": [
              "\n",
              "  <div id=\"df-d289fa73-0ece-49a3-a8e1-c3cdb7d9e4c1\">\n",
              "    <div class=\"colab-df-container\">\n",
              "      <div>\n",
              "<style scoped>\n",
              "    .dataframe tbody tr th:only-of-type {\n",
              "        vertical-align: middle;\n",
              "    }\n",
              "\n",
              "    .dataframe tbody tr th {\n",
              "        vertical-align: top;\n",
              "    }\n",
              "\n",
              "    .dataframe thead th {\n",
              "        text-align: right;\n",
              "    }\n",
              "</style>\n",
              "<table border=\"1\" class=\"dataframe\">\n",
              "  <thead>\n",
              "    <tr style=\"text-align: right;\">\n",
              "      <th></th>\n",
              "      <th>negative</th>\n",
              "      <th>neutral</th>\n",
              "      <th>positive</th>\n",
              "      <th>p-n</th>\n",
              "    </tr>\n",
              "    <tr>\n",
              "      <th>title</th>\n",
              "      <th></th>\n",
              "      <th></th>\n",
              "      <th></th>\n",
              "      <th></th>\n",
              "    </tr>\n",
              "  </thead>\n",
              "  <tbody>\n",
              "    <tr>\n",
              "      <th>2016_Q1</th>\n",
              "      <td>0.030</td>\n",
              "      <td>0.733</td>\n",
              "      <td>0.237</td>\n",
              "      <td>0.207</td>\n",
              "    </tr>\n",
              "    <tr>\n",
              "      <th>2016_Q2</th>\n",
              "      <td>0.034</td>\n",
              "      <td>0.718</td>\n",
              "      <td>0.248</td>\n",
              "      <td>0.214</td>\n",
              "    </tr>\n",
              "    <tr>\n",
              "      <th>2016_Q3</th>\n",
              "      <td>0.022</td>\n",
              "      <td>0.761</td>\n",
              "      <td>0.217</td>\n",
              "      <td>0.195</td>\n",
              "    </tr>\n",
              "    <tr>\n",
              "      <th>2016_Q4</th>\n",
              "      <td>0.021</td>\n",
              "      <td>0.733</td>\n",
              "      <td>0.247</td>\n",
              "      <td>0.226</td>\n",
              "    </tr>\n",
              "    <tr>\n",
              "      <th>2017_Q1</th>\n",
              "      <td>0.020</td>\n",
              "      <td>0.729</td>\n",
              "      <td>0.252</td>\n",
              "      <td>0.232</td>\n",
              "    </tr>\n",
              "    <tr>\n",
              "      <th>2017_Q2</th>\n",
              "      <td>0.029</td>\n",
              "      <td>0.762</td>\n",
              "      <td>0.209</td>\n",
              "      <td>0.180</td>\n",
              "    </tr>\n",
              "    <tr>\n",
              "      <th>2017_Q3</th>\n",
              "      <td>0.010</td>\n",
              "      <td>0.803</td>\n",
              "      <td>0.187</td>\n",
              "      <td>0.177</td>\n",
              "    </tr>\n",
              "    <tr>\n",
              "      <th>2017_Q4</th>\n",
              "      <td>0.018</td>\n",
              "      <td>0.819</td>\n",
              "      <td>0.163</td>\n",
              "      <td>0.145</td>\n",
              "    </tr>\n",
              "    <tr>\n",
              "      <th>2018_Q1</th>\n",
              "      <td>0.016</td>\n",
              "      <td>0.828</td>\n",
              "      <td>0.157</td>\n",
              "      <td>0.141</td>\n",
              "    </tr>\n",
              "    <tr>\n",
              "      <th>2018_Q2</th>\n",
              "      <td>0.015</td>\n",
              "      <td>0.855</td>\n",
              "      <td>0.130</td>\n",
              "      <td>0.115</td>\n",
              "    </tr>\n",
              "    <tr>\n",
              "      <th>2018_Q3</th>\n",
              "      <td>0.029</td>\n",
              "      <td>0.818</td>\n",
              "      <td>0.153</td>\n",
              "      <td>0.124</td>\n",
              "    </tr>\n",
              "    <tr>\n",
              "      <th>2018_Q4</th>\n",
              "      <td>0.031</td>\n",
              "      <td>0.781</td>\n",
              "      <td>0.188</td>\n",
              "      <td>0.157</td>\n",
              "    </tr>\n",
              "    <tr>\n",
              "      <th>2019_Q1</th>\n",
              "      <td>0.024</td>\n",
              "      <td>0.841</td>\n",
              "      <td>0.135</td>\n",
              "      <td>0.111</td>\n",
              "    </tr>\n",
              "    <tr>\n",
              "      <th>2019_Q2</th>\n",
              "      <td>0.033</td>\n",
              "      <td>0.822</td>\n",
              "      <td>0.145</td>\n",
              "      <td>0.112</td>\n",
              "    </tr>\n",
              "    <tr>\n",
              "      <th>2019_Q3</th>\n",
              "      <td>0.023</td>\n",
              "      <td>0.819</td>\n",
              "      <td>0.158</td>\n",
              "      <td>0.135</td>\n",
              "    </tr>\n",
              "    <tr>\n",
              "      <th>2019_Q4</th>\n",
              "      <td>0.032</td>\n",
              "      <td>0.834</td>\n",
              "      <td>0.134</td>\n",
              "      <td>0.102</td>\n",
              "    </tr>\n",
              "    <tr>\n",
              "      <th>2020_Q1</th>\n",
              "      <td>0.033</td>\n",
              "      <td>0.795</td>\n",
              "      <td>0.172</td>\n",
              "      <td>0.139</td>\n",
              "    </tr>\n",
              "    <tr>\n",
              "      <th>2020_Q2</th>\n",
              "      <td>0.034</td>\n",
              "      <td>0.789</td>\n",
              "      <td>0.177</td>\n",
              "      <td>0.143</td>\n",
              "    </tr>\n",
              "    <tr>\n",
              "      <th>2020_Q3</th>\n",
              "      <td>0.029</td>\n",
              "      <td>0.782</td>\n",
              "      <td>0.188</td>\n",
              "      <td>0.159</td>\n",
              "    </tr>\n",
              "    <tr>\n",
              "      <th>2020_Q4</th>\n",
              "      <td>0.063</td>\n",
              "      <td>0.721</td>\n",
              "      <td>0.216</td>\n",
              "      <td>0.153</td>\n",
              "    </tr>\n",
              "    <tr>\n",
              "      <th>2021_Q1</th>\n",
              "      <td>0.044</td>\n",
              "      <td>0.748</td>\n",
              "      <td>0.208</td>\n",
              "      <td>0.164</td>\n",
              "    </tr>\n",
              "    <tr>\n",
              "      <th>2021_Q2</th>\n",
              "      <td>0.043</td>\n",
              "      <td>0.759</td>\n",
              "      <td>0.198</td>\n",
              "      <td>0.155</td>\n",
              "    </tr>\n",
              "    <tr>\n",
              "      <th>2021_Q3</th>\n",
              "      <td>0.034</td>\n",
              "      <td>0.772</td>\n",
              "      <td>0.194</td>\n",
              "      <td>0.160</td>\n",
              "    </tr>\n",
              "    <tr>\n",
              "      <th>2021_Q4</th>\n",
              "      <td>0.039</td>\n",
              "      <td>0.761</td>\n",
              "      <td>0.201</td>\n",
              "      <td>0.162</td>\n",
              "    </tr>\n",
              "    <tr>\n",
              "      <th>2022_Q1</th>\n",
              "      <td>0.034</td>\n",
              "      <td>0.778</td>\n",
              "      <td>0.189</td>\n",
              "      <td>0.155</td>\n",
              "    </tr>\n",
              "    <tr>\n",
              "      <th>2022_Q2</th>\n",
              "      <td>0.038</td>\n",
              "      <td>0.736</td>\n",
              "      <td>0.226</td>\n",
              "      <td>0.188</td>\n",
              "    </tr>\n",
              "    <tr>\n",
              "      <th>2022_Q3</th>\n",
              "      <td>0.039</td>\n",
              "      <td>0.760</td>\n",
              "      <td>0.201</td>\n",
              "      <td>0.162</td>\n",
              "    </tr>\n",
              "  </tbody>\n",
              "</table>\n",
              "</div>\n",
              "      <button class=\"colab-df-convert\" onclick=\"convertToInteractive('df-d289fa73-0ece-49a3-a8e1-c3cdb7d9e4c1')\"\n",
              "              title=\"Convert this dataframe to an interactive table.\"\n",
              "              style=\"display:none;\">\n",
              "        \n",
              "  <svg xmlns=\"http://www.w3.org/2000/svg\" height=\"24px\"viewBox=\"0 0 24 24\"\n",
              "       width=\"24px\">\n",
              "    <path d=\"M0 0h24v24H0V0z\" fill=\"none\"/>\n",
              "    <path d=\"M18.56 5.44l.94 2.06.94-2.06 2.06-.94-2.06-.94-.94-2.06-.94 2.06-2.06.94zm-11 1L8.5 8.5l.94-2.06 2.06-.94-2.06-.94L8.5 2.5l-.94 2.06-2.06.94zm10 10l.94 2.06.94-2.06 2.06-.94-2.06-.94-.94-2.06-.94 2.06-2.06.94z\"/><path d=\"M17.41 7.96l-1.37-1.37c-.4-.4-.92-.59-1.43-.59-.52 0-1.04.2-1.43.59L10.3 9.45l-7.72 7.72c-.78.78-.78 2.05 0 2.83L4 21.41c.39.39.9.59 1.41.59.51 0 1.02-.2 1.41-.59l7.78-7.78 2.81-2.81c.8-.78.8-2.07 0-2.86zM5.41 20L4 18.59l7.72-7.72 1.47 1.35L5.41 20z\"/>\n",
              "  </svg>\n",
              "      </button>\n",
              "      \n",
              "  <style>\n",
              "    .colab-df-container {\n",
              "      display:flex;\n",
              "      flex-wrap:wrap;\n",
              "      gap: 12px;\n",
              "    }\n",
              "\n",
              "    .colab-df-convert {\n",
              "      background-color: #E8F0FE;\n",
              "      border: none;\n",
              "      border-radius: 50%;\n",
              "      cursor: pointer;\n",
              "      display: none;\n",
              "      fill: #1967D2;\n",
              "      height: 32px;\n",
              "      padding: 0 0 0 0;\n",
              "      width: 32px;\n",
              "    }\n",
              "\n",
              "    .colab-df-convert:hover {\n",
              "      background-color: #E2EBFA;\n",
              "      box-shadow: 0px 1px 2px rgba(60, 64, 67, 0.3), 0px 1px 3px 1px rgba(60, 64, 67, 0.15);\n",
              "      fill: #174EA6;\n",
              "    }\n",
              "\n",
              "    [theme=dark] .colab-df-convert {\n",
              "      background-color: #3B4455;\n",
              "      fill: #D2E3FC;\n",
              "    }\n",
              "\n",
              "    [theme=dark] .colab-df-convert:hover {\n",
              "      background-color: #434B5C;\n",
              "      box-shadow: 0px 1px 3px 1px rgba(0, 0, 0, 0.15);\n",
              "      filter: drop-shadow(0px 1px 2px rgba(0, 0, 0, 0.3));\n",
              "      fill: #FFFFFF;\n",
              "    }\n",
              "  </style>\n",
              "\n",
              "      <script>\n",
              "        const buttonEl =\n",
              "          document.querySelector('#df-d289fa73-0ece-49a3-a8e1-c3cdb7d9e4c1 button.colab-df-convert');\n",
              "        buttonEl.style.display =\n",
              "          google.colab.kernel.accessAllowed ? 'block' : 'none';\n",
              "\n",
              "        async function convertToInteractive(key) {\n",
              "          const element = document.querySelector('#df-d289fa73-0ece-49a3-a8e1-c3cdb7d9e4c1');\n",
              "          const dataTable =\n",
              "            await google.colab.kernel.invokeFunction('convertToInteractive',\n",
              "                                                     [key], {});\n",
              "          if (!dataTable) return;\n",
              "\n",
              "          const docLinkHtml = 'Like what you see? Visit the ' +\n",
              "            '<a target=\"_blank\" href=https://colab.research.google.com/notebooks/data_table.ipynb>data table notebook</a>'\n",
              "            + ' to learn more about interactive tables.';\n",
              "          element.innerHTML = '';\n",
              "          dataTable['output_type'] = 'display_data';\n",
              "          await google.colab.output.renderOutput(dataTable, element);\n",
              "          const docLink = document.createElement('div');\n",
              "          docLink.innerHTML = docLinkHtml;\n",
              "          element.appendChild(docLink);\n",
              "        }\n",
              "      </script>\n",
              "    </div>\n",
              "  </div>\n",
              "  "
            ]
          },
          "metadata": {},
          "execution_count": 94
        }
      ]
    },
    {
      "cell_type": "code",
      "source": [
        "import matplotlib.pyplot as plt\n",
        "import seaborn as sns\n",
        "mean3 = scored_news.groupby(\"year\").mean()\n",
        "\n",
        "scores =['negative', 'neutral', 'positive']\n",
        "for i in scores:\n",
        "    mean3[i].plot.bar(figsize=(15,10))\n",
        "    plt.title(i, fontsize = 20)\n",
        "    plt.xticks(fontsize=10)\n",
        "    plt.yticks(fontsize=10)\n",
        "    plt.xlabel(\"year\", fontsize=15)\n",
        "    plt.show()"
      ],
      "metadata": {
        "colab": {
          "base_uri": "https://localhost:8080/",
          "height": 1000
        },
        "id": "HaCDr5SL0rZG",
        "outputId": "fc5d2bdf-acfd-4f3a-c0fd-d13c05e1a58a"
      },
      "execution_count": null,
      "outputs": [
        {
          "output_type": "display_data",
          "data": {
            "text/plain": [
              "<Figure size 1080x720 with 1 Axes>"
            ],
            "image/png": "[encoded data removed]"
          },
          "metadata": {
            "needs_background": "light"
          }
        },
        {
          "output_type": "display_data",
          "data": {
            "text/plain": [
              "<Figure size 1080x720 with 1 Axes>"
            ],
            "image/png": "[encoded data removed]"
          },
          "metadata": {
            "needs_background": "light"
          }
        },
        {
          "output_type": "display_data",
          "data": {
            "text/plain": [
              "<Figure size 1080x720 with 1 Axes>"
            ],
            "image/png": "[encoded data removed]"
          },
          "metadata": {
            "needs_background": "light"
          }
        }
      ]
    }
  ]
}